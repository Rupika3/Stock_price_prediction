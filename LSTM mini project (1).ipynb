{
 "cells": [
  {
   "cell_type": "code",
   "execution_count": 1,
   "id": "a09c251c",
   "metadata": {},
   "outputs": [],
   "source": [
    "import pandas_datareader as pdr\n",
    "key=\"0339bf014841156ce818766778d4d7e194115107\""
   ]
  },
  {
   "cell_type": "code",
   "execution_count": 2,
   "id": "2283e6c6",
   "metadata": {},
   "outputs": [
    {
     "name": "stderr",
     "output_type": "stream",
     "text": [
      "C:\\Users\\Geomatics\\anaconda3\\lib\\site-packages\\pandas_datareader\\tiingo.py:234: FutureWarning: In a future version of pandas all arguments of concat except for the argument 'objs' will be keyword-only.\n",
      "  return pd.concat(dfs, self._concat_axis)\n"
     ]
    }
   ],
   "source": [
    "df = pdr.get_data_tiingo(\"AAPL\",api_key=key)"
   ]
  },
  {
   "cell_type": "code",
   "execution_count": 3,
   "id": "e519ab71",
   "metadata": {},
   "outputs": [],
   "source": [
    "df.to_csv(\"AAPL.csv\")"
   ]
  },
  {
   "cell_type": "code",
   "execution_count": 4,
   "id": "6777a245",
   "metadata": {},
   "outputs": [
    {
     "data": {
      "text/html": [
       "<div>\n",
       "<style scoped>\n",
       "    .dataframe tbody tr th:only-of-type {\n",
       "        vertical-align: middle;\n",
       "    }\n",
       "\n",
       "    .dataframe tbody tr th {\n",
       "        vertical-align: top;\n",
       "    }\n",
       "\n",
       "    .dataframe thead th {\n",
       "        text-align: right;\n",
       "    }\n",
       "</style>\n",
       "<table border=\"1\" class=\"dataframe\">\n",
       "  <thead>\n",
       "    <tr style=\"text-align: right;\">\n",
       "      <th></th>\n",
       "      <th></th>\n",
       "      <th>close</th>\n",
       "      <th>high</th>\n",
       "      <th>low</th>\n",
       "      <th>open</th>\n",
       "      <th>volume</th>\n",
       "      <th>adjClose</th>\n",
       "      <th>adjHigh</th>\n",
       "      <th>adjLow</th>\n",
       "      <th>adjOpen</th>\n",
       "      <th>adjVolume</th>\n",
       "      <th>divCash</th>\n",
       "      <th>splitFactor</th>\n",
       "    </tr>\n",
       "    <tr>\n",
       "      <th>symbol</th>\n",
       "      <th>date</th>\n",
       "      <th></th>\n",
       "      <th></th>\n",
       "      <th></th>\n",
       "      <th></th>\n",
       "      <th></th>\n",
       "      <th></th>\n",
       "      <th></th>\n",
       "      <th></th>\n",
       "      <th></th>\n",
       "      <th></th>\n",
       "      <th></th>\n",
       "      <th></th>\n",
       "    </tr>\n",
       "  </thead>\n",
       "  <tbody>\n",
       "    <tr>\n",
       "      <th rowspan=\"5\" valign=\"top\">AAPL</th>\n",
       "      <th>2017-06-05 00:00:00+00:00</th>\n",
       "      <td>153.93</td>\n",
       "      <td>154.45</td>\n",
       "      <td>153.46</td>\n",
       "      <td>154.34</td>\n",
       "      <td>24803858</td>\n",
       "      <td>36.423468</td>\n",
       "      <td>36.546512</td>\n",
       "      <td>36.312255</td>\n",
       "      <td>36.520483</td>\n",
       "      <td>99215432</td>\n",
       "      <td>0.0</td>\n",
       "      <td>1.0</td>\n",
       "    </tr>\n",
       "    <tr>\n",
       "      <th>2017-06-06 00:00:00+00:00</th>\n",
       "      <td>154.45</td>\n",
       "      <td>155.81</td>\n",
       "      <td>153.78</td>\n",
       "      <td>153.90</td>\n",
       "      <td>26249630</td>\n",
       "      <td>36.546512</td>\n",
       "      <td>36.868320</td>\n",
       "      <td>36.387974</td>\n",
       "      <td>36.416369</td>\n",
       "      <td>104998520</td>\n",
       "      <td>0.0</td>\n",
       "      <td>1.0</td>\n",
       "    </tr>\n",
       "    <tr>\n",
       "      <th>2017-06-07 00:00:00+00:00</th>\n",
       "      <td>155.37</td>\n",
       "      <td>155.98</td>\n",
       "      <td>154.48</td>\n",
       "      <td>155.02</td>\n",
       "      <td>20678772</td>\n",
       "      <td>36.764206</td>\n",
       "      <td>36.908546</td>\n",
       "      <td>36.553611</td>\n",
       "      <td>36.681388</td>\n",
       "      <td>82715088</td>\n",
       "      <td>0.0</td>\n",
       "      <td>1.0</td>\n",
       "    </tr>\n",
       "    <tr>\n",
       "      <th>2017-06-08 00:00:00+00:00</th>\n",
       "      <td>154.99</td>\n",
       "      <td>155.54</td>\n",
       "      <td>154.40</td>\n",
       "      <td>155.25</td>\n",
       "      <td>20771367</td>\n",
       "      <td>36.674289</td>\n",
       "      <td>36.804432</td>\n",
       "      <td>36.534681</td>\n",
       "      <td>36.735811</td>\n",
       "      <td>83085468</td>\n",
       "      <td>0.0</td>\n",
       "      <td>1.0</td>\n",
       "    </tr>\n",
       "    <tr>\n",
       "      <th>2017-06-09 00:00:00+00:00</th>\n",
       "      <td>148.98</td>\n",
       "      <td>155.19</td>\n",
       "      <td>146.02</td>\n",
       "      <td>155.19</td>\n",
       "      <td>64882700</td>\n",
       "      <td>35.252181</td>\n",
       "      <td>36.721614</td>\n",
       "      <td>34.551775</td>\n",
       "      <td>36.721614</td>\n",
       "      <td>259530800</td>\n",
       "      <td>0.0</td>\n",
       "      <td>1.0</td>\n",
       "    </tr>\n",
       "  </tbody>\n",
       "</table>\n",
       "</div>"
      ],
      "text/plain": [
       "                                   close    high     low    open    volume  \\\n",
       "symbol date                                                                  \n",
       "AAPL   2017-06-05 00:00:00+00:00  153.93  154.45  153.46  154.34  24803858   \n",
       "       2017-06-06 00:00:00+00:00  154.45  155.81  153.78  153.90  26249630   \n",
       "       2017-06-07 00:00:00+00:00  155.37  155.98  154.48  155.02  20678772   \n",
       "       2017-06-08 00:00:00+00:00  154.99  155.54  154.40  155.25  20771367   \n",
       "       2017-06-09 00:00:00+00:00  148.98  155.19  146.02  155.19  64882700   \n",
       "\n",
       "                                   adjClose    adjHigh     adjLow    adjOpen  \\\n",
       "symbol date                                                                    \n",
       "AAPL   2017-06-05 00:00:00+00:00  36.423468  36.546512  36.312255  36.520483   \n",
       "       2017-06-06 00:00:00+00:00  36.546512  36.868320  36.387974  36.416369   \n",
       "       2017-06-07 00:00:00+00:00  36.764206  36.908546  36.553611  36.681388   \n",
       "       2017-06-08 00:00:00+00:00  36.674289  36.804432  36.534681  36.735811   \n",
       "       2017-06-09 00:00:00+00:00  35.252181  36.721614  34.551775  36.721614   \n",
       "\n",
       "                                  adjVolume  divCash  splitFactor  \n",
       "symbol date                                                        \n",
       "AAPL   2017-06-05 00:00:00+00:00   99215432      0.0          1.0  \n",
       "       2017-06-06 00:00:00+00:00  104998520      0.0          1.0  \n",
       "       2017-06-07 00:00:00+00:00   82715088      0.0          1.0  \n",
       "       2017-06-08 00:00:00+00:00   83085468      0.0          1.0  \n",
       "       2017-06-09 00:00:00+00:00  259530800      0.0          1.0  "
      ]
     },
     "execution_count": 4,
     "metadata": {},
     "output_type": "execute_result"
    }
   ],
   "source": [
    "df.head()"
   ]
  },
  {
   "cell_type": "code",
   "execution_count": 5,
   "id": "bf54c35c",
   "metadata": {},
   "outputs": [
    {
     "data": {
      "text/html": [
       "<div>\n",
       "<style scoped>\n",
       "    .dataframe tbody tr th:only-of-type {\n",
       "        vertical-align: middle;\n",
       "    }\n",
       "\n",
       "    .dataframe tbody tr th {\n",
       "        vertical-align: top;\n",
       "    }\n",
       "\n",
       "    .dataframe thead th {\n",
       "        text-align: right;\n",
       "    }\n",
       "</style>\n",
       "<table border=\"1\" class=\"dataframe\">\n",
       "  <thead>\n",
       "    <tr style=\"text-align: right;\">\n",
       "      <th></th>\n",
       "      <th></th>\n",
       "      <th>close</th>\n",
       "      <th>high</th>\n",
       "      <th>low</th>\n",
       "      <th>open</th>\n",
       "      <th>volume</th>\n",
       "      <th>adjClose</th>\n",
       "      <th>adjHigh</th>\n",
       "      <th>adjLow</th>\n",
       "      <th>adjOpen</th>\n",
       "      <th>adjVolume</th>\n",
       "      <th>divCash</th>\n",
       "      <th>splitFactor</th>\n",
       "    </tr>\n",
       "    <tr>\n",
       "      <th>symbol</th>\n",
       "      <th>date</th>\n",
       "      <th></th>\n",
       "      <th></th>\n",
       "      <th></th>\n",
       "      <th></th>\n",
       "      <th></th>\n",
       "      <th></th>\n",
       "      <th></th>\n",
       "      <th></th>\n",
       "      <th></th>\n",
       "      <th></th>\n",
       "      <th></th>\n",
       "      <th></th>\n",
       "    </tr>\n",
       "  </thead>\n",
       "  <tbody>\n",
       "    <tr>\n",
       "      <th rowspan=\"5\" valign=\"top\">AAPL</th>\n",
       "      <th>2017-06-05 00:00:00+00:00</th>\n",
       "      <td>153.93</td>\n",
       "      <td>154.45</td>\n",
       "      <td>153.46</td>\n",
       "      <td>154.34</td>\n",
       "      <td>24803858</td>\n",
       "      <td>36.423468</td>\n",
       "      <td>36.546512</td>\n",
       "      <td>36.312255</td>\n",
       "      <td>36.520483</td>\n",
       "      <td>99215432</td>\n",
       "      <td>0.0</td>\n",
       "      <td>1.0</td>\n",
       "    </tr>\n",
       "    <tr>\n",
       "      <th>2017-06-06 00:00:00+00:00</th>\n",
       "      <td>154.45</td>\n",
       "      <td>155.81</td>\n",
       "      <td>153.78</td>\n",
       "      <td>153.90</td>\n",
       "      <td>26249630</td>\n",
       "      <td>36.546512</td>\n",
       "      <td>36.868320</td>\n",
       "      <td>36.387974</td>\n",
       "      <td>36.416369</td>\n",
       "      <td>104998520</td>\n",
       "      <td>0.0</td>\n",
       "      <td>1.0</td>\n",
       "    </tr>\n",
       "    <tr>\n",
       "      <th>2017-06-07 00:00:00+00:00</th>\n",
       "      <td>155.37</td>\n",
       "      <td>155.98</td>\n",
       "      <td>154.48</td>\n",
       "      <td>155.02</td>\n",
       "      <td>20678772</td>\n",
       "      <td>36.764206</td>\n",
       "      <td>36.908546</td>\n",
       "      <td>36.553611</td>\n",
       "      <td>36.681388</td>\n",
       "      <td>82715088</td>\n",
       "      <td>0.0</td>\n",
       "      <td>1.0</td>\n",
       "    </tr>\n",
       "    <tr>\n",
       "      <th>2017-06-08 00:00:00+00:00</th>\n",
       "      <td>154.99</td>\n",
       "      <td>155.54</td>\n",
       "      <td>154.40</td>\n",
       "      <td>155.25</td>\n",
       "      <td>20771367</td>\n",
       "      <td>36.674289</td>\n",
       "      <td>36.804432</td>\n",
       "      <td>36.534681</td>\n",
       "      <td>36.735811</td>\n",
       "      <td>83085468</td>\n",
       "      <td>0.0</td>\n",
       "      <td>1.0</td>\n",
       "    </tr>\n",
       "    <tr>\n",
       "      <th>2017-06-09 00:00:00+00:00</th>\n",
       "      <td>148.98</td>\n",
       "      <td>155.19</td>\n",
       "      <td>146.02</td>\n",
       "      <td>155.19</td>\n",
       "      <td>64882700</td>\n",
       "      <td>35.252181</td>\n",
       "      <td>36.721614</td>\n",
       "      <td>34.551775</td>\n",
       "      <td>36.721614</td>\n",
       "      <td>259530800</td>\n",
       "      <td>0.0</td>\n",
       "      <td>1.0</td>\n",
       "    </tr>\n",
       "  </tbody>\n",
       "</table>\n",
       "</div>"
      ],
      "text/plain": [
       "                                   close    high     low    open    volume  \\\n",
       "symbol date                                                                  \n",
       "AAPL   2017-06-05 00:00:00+00:00  153.93  154.45  153.46  154.34  24803858   \n",
       "       2017-06-06 00:00:00+00:00  154.45  155.81  153.78  153.90  26249630   \n",
       "       2017-06-07 00:00:00+00:00  155.37  155.98  154.48  155.02  20678772   \n",
       "       2017-06-08 00:00:00+00:00  154.99  155.54  154.40  155.25  20771367   \n",
       "       2017-06-09 00:00:00+00:00  148.98  155.19  146.02  155.19  64882700   \n",
       "\n",
       "                                   adjClose    adjHigh     adjLow    adjOpen  \\\n",
       "symbol date                                                                    \n",
       "AAPL   2017-06-05 00:00:00+00:00  36.423468  36.546512  36.312255  36.520483   \n",
       "       2017-06-06 00:00:00+00:00  36.546512  36.868320  36.387974  36.416369   \n",
       "       2017-06-07 00:00:00+00:00  36.764206  36.908546  36.553611  36.681388   \n",
       "       2017-06-08 00:00:00+00:00  36.674289  36.804432  36.534681  36.735811   \n",
       "       2017-06-09 00:00:00+00:00  35.252181  36.721614  34.551775  36.721614   \n",
       "\n",
       "                                  adjVolume  divCash  splitFactor  \n",
       "symbol date                                                        \n",
       "AAPL   2017-06-05 00:00:00+00:00   99215432      0.0          1.0  \n",
       "       2017-06-06 00:00:00+00:00  104998520      0.0          1.0  \n",
       "       2017-06-07 00:00:00+00:00   82715088      0.0          1.0  \n",
       "       2017-06-08 00:00:00+00:00   83085468      0.0          1.0  \n",
       "       2017-06-09 00:00:00+00:00  259530800      0.0          1.0  "
      ]
     },
     "execution_count": 5,
     "metadata": {},
     "output_type": "execute_result"
    }
   ],
   "source": [
    "df.head()"
   ]
  },
  {
   "cell_type": "code",
   "execution_count": 6,
   "id": "d5c56a3a",
   "metadata": {},
   "outputs": [
    {
     "data": {
      "text/plain": [
       "0    153.93\n",
       "1    154.45\n",
       "2    155.37\n",
       "3    154.99\n",
       "4    148.98\n",
       "Name: close, dtype: float64"
      ]
     },
     "execution_count": 6,
     "metadata": {},
     "output_type": "execute_result"
    }
   ],
   "source": [
    "df1 =  df.reset_index()['close']\n",
    "\n",
    "df1.head()"
   ]
  },
  {
   "cell_type": "code",
   "execution_count": 7,
   "id": "a2d7b438",
   "metadata": {},
   "outputs": [
    {
     "data": {
      "text/plain": [
       "(1259,)"
      ]
     },
     "execution_count": 7,
     "metadata": {},
     "output_type": "execute_result"
    }
   ],
   "source": [
    "df1.shape"
   ]
  },
  {
   "cell_type": "code",
   "execution_count": 8,
   "id": "a05c1209",
   "metadata": {},
   "outputs": [
    {
     "data": {
      "text/plain": [
       "[<matplotlib.lines.Line2D at 0x173a39cb100>]"
      ]
     },
     "execution_count": 8,
     "metadata": {},
     "output_type": "execute_result"
    },
    {
     "data": {
      "image/png": "[encoded data removed]",
      "text/plain": [
       "<Figure size 432x288 with 1 Axes>"
      ]
     },
     "metadata": {
      "needs_background": "light"
     },
     "output_type": "display_data"
    }
   ],
   "source": [
    "import matplotlib.pyplot as plt \n",
    "plt.plot(df1)"
   ]
  },
  {
   "cell_type": "code",
   "execution_count": 9,
   "id": "235e26ad",
   "metadata": {},
   "outputs": [],
   "source": [
    "import numpy as np"
   ]
  },
  {
   "cell_type": "code",
   "execution_count": 10,
   "id": "cf9a64c7",
   "metadata": {},
   "outputs": [],
   "source": [
    "from sklearn.preprocessing import MinMaxScaler\n",
    "scaler = MinMaxScaler(feature_range=(0,1))\n",
    "df1 = scaler.fit_transform(np.array(df1).reshape(-1,1))"
   ]
  },
  {
   "cell_type": "code",
   "execution_count": 11,
   "id": "b8d8b6bf",
   "metadata": {},
   "outputs": [
    {
     "data": {
      "text/plain": [
       "(1259, 1)"
      ]
     },
     "execution_count": 11,
     "metadata": {},
     "output_type": "execute_result"
    }
   ],
   "source": [
    "df1.shape"
   ]
  },
  {
   "cell_type": "code",
   "execution_count": 12,
   "id": "0b8d3954",
   "metadata": {},
   "outputs": [],
   "source": [
    "training_size = int(len(df1)*0.65) \n",
    "test_size = len(df1)- training_size\n",
    "train_data, test_data = df1[0:training_size:,:],df1[training_size:len(df1),:1]"
   ]
  },
  {
   "cell_type": "code",
   "execution_count": 13,
   "id": "a0fd7718",
   "metadata": {},
   "outputs": [
    {
     "data": {
      "text/plain": [
       "(818, 441)"
      ]
     },
     "execution_count": 13,
     "metadata": {},
     "output_type": "execute_result"
    }
   ],
   "source": [
    "training_size,test_size"
   ]
  },
  {
   "cell_type": "code",
   "execution_count": 14,
   "id": "a325e4a1",
   "metadata": {},
   "outputs": [],
   "source": [
    "import numpy \n",
    "def create_dataset(dataset,time_step=1):\n",
    "    dataX,dataY = [],[]\n",
    "    for i in range(len(dataset)-time_step-1):\n",
    "        a = dataset[i:(i+time_step),0]\n",
    "        dataX.append(a)\n",
    "        dataY.append(dataset[i+time_step,0])\n",
    "    return numpy.array(dataX), numpy.array(dataY)\n",
    "        \n",
    "        "
   ]
  },
  {
   "cell_type": "code",
   "execution_count": 15,
   "id": "63612ae2",
   "metadata": {},
   "outputs": [],
   "source": [
    "time_step=100\n",
    "X_train, Y_train = create_dataset(train_data,time_step)\n",
    "X_test,y_test = create_dataset(test_data,time_step)"
   ]
  },
  {
   "cell_type": "code",
   "execution_count": 16,
   "id": "1b76c6e4",
   "metadata": {},
   "outputs": [
    {
     "data": {
      "text/plain": [
       "array([[0.11794615, 0.11924859, 0.12155291, ..., 0.12375704, 0.12355667,\n",
       "        0.12588604],\n",
       "       [0.11924859, 0.12155291, 0.12060113, ..., 0.12355667, 0.12588604,\n",
       "        0.1241578 ],\n",
       "       [0.12155291, 0.12060113, 0.1055479 , ..., 0.12588604, 0.1241578 ,\n",
       "        0.12666249],\n",
       "       ...,\n",
       "       [0.38980589, 0.38219161, 0.39882279, ..., 0.99333751, 0.98299311,\n",
       "        1.        ],\n",
       "       [0.38219161, 0.39882279, 0.40363181, ..., 0.98299311, 1.        ,\n",
       "        0.98484659],\n",
       "       [0.39882279, 0.40363181, 0.41680651, ..., 1.        , 0.98484659,\n",
       "        0.98281778]])"
      ]
     },
     "execution_count": 16,
     "metadata": {},
     "output_type": "execute_result"
    }
   ],
   "source": [
    "X_train"
   ]
  },
  {
   "cell_type": "code",
   "execution_count": 17,
   "id": "8cf59faa",
   "metadata": {},
   "outputs": [],
   "source": [
    "X_train =X_train.reshape(X_train.shape[0],X_train.shape[1] , 1)\n",
    "X_test = X_test.reshape(X_test.shape[0],X_test.shape[1] , 1)"
   ]
  },
  {
   "cell_type": "code",
   "execution_count": 18,
   "id": "70481547",
   "metadata": {},
   "outputs": [],
   "source": [
    "from tensorflow.keras.models import Sequential\n",
    "from tensorflow.keras.layers import Dense\n",
    "from tensorflow.keras.layers import LSTM\n"
   ]
  },
  {
   "cell_type": "code",
   "execution_count": 19,
   "id": "7559335f",
   "metadata": {},
   "outputs": [],
   "source": [
    "model = Sequential()\n",
    "model.add(LSTM(50,return_sequences=True,input_shape=(100,1)))\n",
    "model.add(LSTM(50,return_sequences=True))\n",
    "model.add(LSTM(50))\n",
    "model.add(Dense(1))\n",
    "model.compile(loss='mean_squared_error',optimizer='adam')"
   ]
  },
  {
   "cell_type": "code",
   "execution_count": 20,
   "id": "a41920c1",
   "metadata": {},
   "outputs": [
    {
     "name": "stdout",
     "output_type": "stream",
     "text": [
      "Model: \"sequential\"\n",
      "_________________________________________________________________\n",
      " Layer (type)                Output Shape              Param #   \n",
      "=================================================================\n",
      " lstm (LSTM)                 (None, 100, 50)           10400     \n",
      "                                                                 \n",
      " lstm_1 (LSTM)               (None, 100, 50)           20200     \n",
      "                                                                 \n",
      " lstm_2 (LSTM)               (None, 50)                20200     \n",
      "                                                                 \n",
      " dense (Dense)               (None, 1)                 51        \n",
      "                                                                 \n",
      "=================================================================\n",
      "Total params: 50,851\n",
      "Trainable params: 50,851\n",
      "Non-trainable params: 0\n",
      "_________________________________________________________________\n"
     ]
    }
   ],
   "source": [
    "model.summary()"
   ]
  },
  {
   "cell_type": "code",
   "execution_count": 21,
   "id": "b2f4c90d",
   "metadata": {},
   "outputs": [
    {
     "name": "stdout",
     "output_type": "stream",
     "text": [
      "Epoch 1/100\n",
      "12/12 [==============================] - 8s 262ms/step - loss: 0.0421 - val_loss: 0.0045\n",
      "Epoch 2/100\n",
      "12/12 [==============================] - 2s 138ms/step - loss: 0.0111 - val_loss: 0.0089\n",
      "Epoch 3/100\n",
      "12/12 [==============================] - 2s 141ms/step - loss: 0.0048 - val_loss: 9.1387e-04\n",
      "Epoch 4/100\n",
      "12/12 [==============================] - 2s 137ms/step - loss: 0.0032 - val_loss: 7.0129e-04\n",
      "Epoch 5/100\n",
      "12/12 [==============================] - 2s 135ms/step - loss: 0.0031 - val_loss: 4.9187e-04\n",
      "Epoch 6/100\n",
      "12/12 [==============================] - 2s 136ms/step - loss: 0.0026 - val_loss: 9.7075e-04\n",
      "Epoch 7/100\n",
      "12/12 [==============================] - 2s 135ms/step - loss: 0.0027 - val_loss: 3.8075e-04\n",
      "Epoch 8/100\n",
      "12/12 [==============================] - 2s 149ms/step - loss: 0.0024 - val_loss: 4.0174e-04\n",
      "Epoch 9/100\n",
      "12/12 [==============================] - 2s 150ms/step - loss: 0.0026 - val_loss: 3.5144e-04\n",
      "Epoch 10/100\n",
      "12/12 [==============================] - 2s 144ms/step - loss: 0.0026 - val_loss: 3.2361e-04\n",
      "Epoch 11/100\n",
      "12/12 [==============================] - 2s 136ms/step - loss: 0.0025 - val_loss: 4.4772e-04\n",
      "Epoch 12/100\n",
      "12/12 [==============================] - 2s 160ms/step - loss: 0.0023 - val_loss: 3.9941e-04\n",
      "Epoch 13/100\n",
      "12/12 [==============================] - 2s 166ms/step - loss: 0.0023 - val_loss: 3.4270e-04\n",
      "Epoch 14/100\n",
      "12/12 [==============================] - 2s 170ms/step - loss: 0.0027 - val_loss: 3.0388e-04\n",
      "Epoch 15/100\n",
      "12/12 [==============================] - 2s 142ms/step - loss: 0.0026 - val_loss: 3.0068e-04\n",
      "Epoch 16/100\n",
      "12/12 [==============================] - 2s 142ms/step - loss: 0.0023 - val_loss: 2.8290e-04\n",
      "Epoch 17/100\n",
      "12/12 [==============================] - 2s 142ms/step - loss: 0.0024 - val_loss: 3.1715e-04\n",
      "Epoch 18/100\n",
      "12/12 [==============================] - 2s 146ms/step - loss: 0.0028 - val_loss: 2.8073e-04\n",
      "Epoch 19/100\n",
      "12/12 [==============================] - 2s 141ms/step - loss: 0.0023 - val_loss: 3.1793e-04\n",
      "Epoch 20/100\n",
      "12/12 [==============================] - 2s 131ms/step - loss: 0.0021 - val_loss: 4.7106e-04\n",
      "Epoch 21/100\n",
      "12/12 [==============================] - 2s 131ms/step - loss: 0.0024 - val_loss: 3.5547e-04\n",
      "Epoch 22/100\n",
      "12/12 [==============================] - 2s 133ms/step - loss: 0.0022 - val_loss: 2.7389e-04\n",
      "Epoch 23/100\n",
      "12/12 [==============================] - 2s 136ms/step - loss: 0.0021 - val_loss: 2.6901e-04\n",
      "Epoch 24/100\n",
      "12/12 [==============================] - 2s 136ms/step - loss: 0.0020 - val_loss: 2.6343e-04\n",
      "Epoch 25/100\n",
      "12/12 [==============================] - 2s 133ms/step - loss: 0.0021 - val_loss: 3.5244e-04\n",
      "Epoch 26/100\n",
      "12/12 [==============================] - 2s 135ms/step - loss: 0.0021 - val_loss: 3.0797e-04\n",
      "Epoch 27/100\n",
      "12/12 [==============================] - 2s 129ms/step - loss: 0.0021 - val_loss: 2.3688e-04\n",
      "Epoch 28/100\n",
      "12/12 [==============================] - 2s 129ms/step - loss: 0.0022 - val_loss: 3.3776e-04\n",
      "Epoch 29/100\n",
      "12/12 [==============================] - 2s 128ms/step - loss: 0.0020 - val_loss: 2.4401e-04\n",
      "Epoch 30/100\n",
      "12/12 [==============================] - 2s 130ms/step - loss: 0.0021 - val_loss: 2.4256e-04\n",
      "Epoch 31/100\n",
      "12/12 [==============================] - 2s 131ms/step - loss: 0.0026 - val_loss: 2.3376e-04\n",
      "Epoch 32/100\n",
      "12/12 [==============================] - 2s 137ms/step - loss: 0.0021 - val_loss: 2.3947e-04\n",
      "Epoch 33/100\n",
      "12/12 [==============================] - 2s 134ms/step - loss: 0.0022 - val_loss: 2.8353e-04\n",
      "Epoch 34/100\n",
      "12/12 [==============================] - 2s 143ms/step - loss: 0.0023 - val_loss: 2.8910e-04\n",
      "Epoch 35/100\n",
      "12/12 [==============================] - 2s 130ms/step - loss: 0.0021 - val_loss: 3.8338e-04\n",
      "Epoch 36/100\n",
      "12/12 [==============================] - 2s 129ms/step - loss: 0.0020 - val_loss: 2.3332e-04\n",
      "Epoch 37/100\n",
      "12/12 [==============================] - 2s 128ms/step - loss: 0.0019 - val_loss: 2.6825e-04\n",
      "Epoch 38/100\n",
      "12/12 [==============================] - 2s 129ms/step - loss: 0.0022 - val_loss: 2.3209e-04\n",
      "Epoch 39/100\n",
      "12/12 [==============================] - 2s 134ms/step - loss: 0.0019 - val_loss: 2.7892e-04\n",
      "Epoch 40/100\n",
      "12/12 [==============================] - 2s 133ms/step - loss: 0.0021 - val_loss: 3.5075e-04\n",
      "Epoch 41/100\n",
      "12/12 [==============================] - 2s 129ms/step - loss: 0.0020 - val_loss: 2.6288e-04\n",
      "Epoch 42/100\n",
      "12/12 [==============================] - 2s 129ms/step - loss: 0.0020 - val_loss: 2.8950e-04\n",
      "Epoch 43/100\n",
      "12/12 [==============================] - 2s 129ms/step - loss: 0.0021 - val_loss: 2.2713e-04\n",
      "Epoch 44/100\n",
      "12/12 [==============================] - 2s 141ms/step - loss: 0.0020 - val_loss: 3.3637e-04\n",
      "Epoch 45/100\n",
      "12/12 [==============================] - 2s 134ms/step - loss: 0.0019 - val_loss: 2.1667e-04\n",
      "Epoch 46/100\n",
      "12/12 [==============================] - 2s 131ms/step - loss: 0.0019 - val_loss: 3.2325e-04\n",
      "Epoch 47/100\n",
      "12/12 [==============================] - 2s 132ms/step - loss: 0.0019 - val_loss: 2.4145e-04\n",
      "Epoch 48/100\n",
      "12/12 [==============================] - 2s 132ms/step - loss: 0.0019 - val_loss: 3.0506e-04\n",
      "Epoch 49/100\n",
      "12/12 [==============================] - 2s 130ms/step - loss: 0.0021 - val_loss: 2.1025e-04\n",
      "Epoch 50/100\n",
      "12/12 [==============================] - 2s 131ms/step - loss: 0.0019 - val_loss: 2.0844e-04\n",
      "Epoch 51/100\n",
      "12/12 [==============================] - 2s 130ms/step - loss: 0.0019 - val_loss: 4.9383e-04\n",
      "Epoch 52/100\n",
      "12/12 [==============================] - 2s 129ms/step - loss: 0.0020 - val_loss: 3.3602e-04\n",
      "Epoch 53/100\n",
      "12/12 [==============================] - 2s 130ms/step - loss: 0.0018 - val_loss: 1.8759e-04\n",
      "Epoch 54/100\n",
      "12/12 [==============================] - 2s 131ms/step - loss: 0.0018 - val_loss: 2.2616e-04\n",
      "Epoch 55/100\n",
      "12/12 [==============================] - 2s 135ms/step - loss: 0.0021 - val_loss: 2.5471e-04\n",
      "Epoch 56/100\n",
      "12/12 [==============================] - 2s 131ms/step - loss: 0.0021 - val_loss: 3.0785e-04\n",
      "Epoch 57/100\n",
      "12/12 [==============================] - 2s 129ms/step - loss: 0.0018 - val_loss: 2.1657e-04\n",
      "Epoch 58/100\n",
      "12/12 [==============================] - 2s 130ms/step - loss: 0.0018 - val_loss: 1.8479e-04\n",
      "Epoch 59/100\n",
      "12/12 [==============================] - 2s 131ms/step - loss: 0.0018 - val_loss: 2.8114e-04\n",
      "Epoch 60/100\n",
      "12/12 [==============================] - 2s 129ms/step - loss: 0.0023 - val_loss: 2.6544e-04\n",
      "Epoch 61/100\n",
      "12/12 [==============================] - 2s 131ms/step - loss: 0.0021 - val_loss: 1.9372e-04\n",
      "Epoch 62/100\n",
      "12/12 [==============================] - 2s 132ms/step - loss: 0.0018 - val_loss: 2.2689e-04\n",
      "Epoch 63/100\n",
      "12/12 [==============================] - 2s 132ms/step - loss: 0.0018 - val_loss: 1.7763e-04\n",
      "Epoch 64/100\n",
      "12/12 [==============================] - 2s 133ms/step - loss: 0.0017 - val_loss: 1.7396e-04\n",
      "Epoch 65/100\n",
      "12/12 [==============================] - 2s 130ms/step - loss: 0.0019 - val_loss: 1.8950e-04\n",
      "Epoch 66/100\n",
      "12/12 [==============================] - 2s 132ms/step - loss: 0.0019 - val_loss: 1.7796e-04\n",
      "Epoch 67/100\n",
      "12/12 [==============================] - 2s 142ms/step - loss: 0.0018 - val_loss: 2.0156e-04\n",
      "Epoch 68/100\n",
      "12/12 [==============================] - 2s 132ms/step - loss: 0.0020 - val_loss: 1.7572e-04\n",
      "Epoch 69/100\n",
      "12/12 [==============================] - 2s 136ms/step - loss: 0.0019 - val_loss: 3.0000e-04\n",
      "Epoch 70/100\n",
      "12/12 [==============================] - 2s 131ms/step - loss: 0.0021 - val_loss: 1.7171e-04\n",
      "Epoch 71/100\n",
      "12/12 [==============================] - 2s 134ms/step - loss: 0.0019 - val_loss: 3.2388e-04\n",
      "Epoch 72/100\n",
      "12/12 [==============================] - 2s 132ms/step - loss: 0.0018 - val_loss: 1.7064e-04\n",
      "Epoch 73/100\n",
      "12/12 [==============================] - 2s 135ms/step - loss: 0.0020 - val_loss: 2.1177e-04\n",
      "Epoch 74/100\n",
      "12/12 [==============================] - 2s 140ms/step - loss: 0.0024 - val_loss: 1.6798e-04\n",
      "Epoch 75/100\n",
      "12/12 [==============================] - 2s 133ms/step - loss: 0.0018 - val_loss: 2.4501e-04\n",
      "Epoch 76/100\n",
      "12/12 [==============================] - 2s 133ms/step - loss: 0.0020 - val_loss: 1.6832e-04\n",
      "Epoch 77/100\n",
      "12/12 [==============================] - 2s 130ms/step - loss: 0.0020 - val_loss: 2.7266e-04\n",
      "Epoch 78/100\n"
     ]
    },
    {
     "name": "stdout",
     "output_type": "stream",
     "text": [
      "12/12 [==============================] - 2s 130ms/step - loss: 0.0020 - val_loss: 2.3363e-04\n",
      "Epoch 79/100\n",
      "12/12 [==============================] - 2s 134ms/step - loss: 0.0018 - val_loss: 1.7642e-04\n",
      "Epoch 80/100\n",
      "12/12 [==============================] - 2s 133ms/step - loss: 0.0018 - val_loss: 1.8321e-04\n",
      "Epoch 81/100\n",
      "12/12 [==============================] - 2s 130ms/step - loss: 0.0017 - val_loss: 1.7877e-04\n",
      "Epoch 82/100\n",
      "12/12 [==============================] - 2s 129ms/step - loss: 0.0018 - val_loss: 2.1057e-04\n",
      "Epoch 83/100\n",
      "12/12 [==============================] - 2s 137ms/step - loss: 0.0017 - val_loss: 1.7114e-04\n",
      "Epoch 84/100\n",
      "12/12 [==============================] - 2s 136ms/step - loss: 0.0018 - val_loss: 1.5829e-04\n",
      "Epoch 85/100\n",
      "12/12 [==============================] - 2s 131ms/step - loss: 0.0018 - val_loss: 1.9267e-04\n",
      "Epoch 86/100\n",
      "12/12 [==============================] - 2s 135ms/step - loss: 0.0020 - val_loss: 1.5936e-04\n",
      "Epoch 87/100\n",
      "12/12 [==============================] - 2s 133ms/step - loss: 0.0017 - val_loss: 1.5786e-04\n",
      "Epoch 88/100\n",
      "12/12 [==============================] - 2s 130ms/step - loss: 0.0017 - val_loss: 1.6557e-04\n",
      "Epoch 89/100\n",
      "12/12 [==============================] - 2s 134ms/step - loss: 0.0018 - val_loss: 1.5719e-04\n",
      "Epoch 90/100\n",
      "12/12 [==============================] - 2s 137ms/step - loss: 0.0017 - val_loss: 1.5882e-04\n",
      "Epoch 91/100\n",
      "12/12 [==============================] - 2s 133ms/step - loss: 0.0018 - val_loss: 1.5856e-04\n",
      "Epoch 92/100\n",
      "12/12 [==============================] - 2s 130ms/step - loss: 0.0020 - val_loss: 1.5540e-04\n",
      "Epoch 93/100\n",
      "12/12 [==============================] - 2s 136ms/step - loss: 0.0019 - val_loss: 1.6815e-04\n",
      "Epoch 94/100\n",
      "12/12 [==============================] - 2s 132ms/step - loss: 0.0018 - val_loss: 1.5736e-04\n",
      "Epoch 95/100\n",
      "12/12 [==============================] - 2s 129ms/step - loss: 0.0019 - val_loss: 1.9975e-04\n",
      "Epoch 96/100\n",
      "12/12 [==============================] - 2s 131ms/step - loss: 0.0018 - val_loss: 2.3942e-04\n",
      "Epoch 97/100\n",
      "12/12 [==============================] - 2s 139ms/step - loss: 0.0042 - val_loss: 0.0015\n",
      "Epoch 98/100\n",
      "12/12 [==============================] - 2s 136ms/step - loss: 0.0024 - val_loss: 3.5610e-04\n",
      "Epoch 99/100\n",
      "12/12 [==============================] - 2s 133ms/step - loss: 0.0017 - val_loss: 1.5714e-04\n",
      "Epoch 100/100\n",
      "12/12 [==============================] - 2s 133ms/step - loss: 0.0017 - val_loss: 2.6541e-04\n"
     ]
    },
    {
     "data": {
      "text/plain": [
       "<keras.callbacks.History at 0x173af2fb520>"
      ]
     },
     "execution_count": 21,
     "metadata": {},
     "output_type": "execute_result"
    }
   ],
   "source": [
    "model.fit(X_train,Y_train,validation_data=(X_test,y_test),epochs=100,batch_size=64,verbose=1)"
   ]
  },
  {
   "cell_type": "code",
   "execution_count": 22,
   "id": "169395f6",
   "metadata": {},
   "outputs": [
    {
     "data": {
      "text/plain": [
       "'2.9.1'"
      ]
     },
     "execution_count": 22,
     "metadata": {},
     "output_type": "execute_result"
    }
   ],
   "source": [
    "import tensorflow as tf\n",
    "tf.__version__"
   ]
  },
  {
   "cell_type": "code",
   "execution_count": 23,
   "id": "2f71b7d1",
   "metadata": {},
   "outputs": [
    {
     "name": "stdout",
     "output_type": "stream",
     "text": [
      "23/23 [==============================] - 2s 24ms/step\n",
      "11/11 [==============================] - 0s 24ms/step\n"
     ]
    }
   ],
   "source": [
    "train_predict = model.predict(X_train)\n",
    "test_predict = model.predict(X_test)"
   ]
  },
  {
   "cell_type": "code",
   "execution_count": 24,
   "id": "da8d33b1",
   "metadata": {},
   "outputs": [],
   "source": [
    "train_predict = scaler.inverse_transform(train_predict)\n",
    "test_predict = scaler.inverse_transform(test_predict)    "
   ]
  },
  {
   "cell_type": "code",
   "execution_count": 25,
   "id": "d52996e7",
   "metadata": {},
   "outputs": [
    {
     "data": {
      "text/plain": [
       "230.7147602042398"
      ]
     },
     "execution_count": 25,
     "metadata": {},
     "output_type": "execute_result"
    }
   ],
   "source": [
    "import math\n",
    "from sklearn.metrics import mean_squared_error\n",
    "math.sqrt(mean_squared_error(Y_train,train_predict))"
   ]
  },
  {
   "cell_type": "code",
   "execution_count": 26,
   "id": "147756c5",
   "metadata": {},
   "outputs": [
    {
     "data": {
      "text/plain": [
       "144.83055878004998"
      ]
     },
     "execution_count": 26,
     "metadata": {},
     "output_type": "execute_result"
    }
   ],
   "source": [
    "math.sqrt(mean_squared_error(y_test,test_predict))"
   ]
  },
  {
   "cell_type": "code",
   "execution_count": 27,
   "id": "14dec35b",
   "metadata": {},
   "outputs": [
    {
     "data": {
      "text/plain": [
       "717"
      ]
     },
     "execution_count": 27,
     "metadata": {},
     "output_type": "execute_result"
    }
   ],
   "source": [
    "len(train_predict)"
   ]
  },
  {
   "cell_type": "code",
   "execution_count": 28,
   "id": "67bfe9fc",
   "metadata": {},
   "outputs": [
    {
     "data": {
      "image/png": "[encoded data removed]",
      "text/plain": [
       "<Figure size 432x288 with 1 Axes>"
      ]
     },
     "metadata": {
      "needs_background": "light"
     },
     "output_type": "display_data"
    }
   ],
   "source": [
    "look_back = 100\n",
    "trainPredictPlot = numpy.empty_like(df1)\n",
    "trainPredictPlot[:,:]  = np.nan\n",
    "trainPredictPlot[look_back:len(train_predict)+look_back,: ] = train_predict\n",
    "testPredictPlot = numpy.empty_like(df1)\n",
    "testPredictPlot[:,:] = np.nan\n",
    "testPredictPlot[len(train_predict)+(look_back*2)+1:len(df1)-1,:] = test_predict\n",
    "\n",
    "plt.plot(scaler.inverse_transform(df1))\n",
    "plt.plot(trainPredictPlot)\n",
    "plt.plot(testPredictPlot)\n",
    "plt.show()"
   ]
  },
  {
   "cell_type": "code",
   "execution_count": 29,
   "id": "54c6828a",
   "metadata": {},
   "outputs": [
    {
     "data": {
      "text/plain": [
       "(1259, 1)"
      ]
     },
     "execution_count": 29,
     "metadata": {},
     "output_type": "execute_result"
    }
   ],
   "source": [
    "trainPredictPlot.shape"
   ]
  },
  {
   "cell_type": "code",
   "execution_count": 30,
   "id": "d6cd867f",
   "metadata": {},
   "outputs": [
    {
     "data": {
      "text/plain": [
       "(1, 100)"
      ]
     },
     "execution_count": 30,
     "metadata": {},
     "output_type": "execute_result"
    }
   ],
   "source": [
    "x_input = test_data[341:].reshape(1,-1)\n",
    "x_input.shape"
   ]
  },
  {
   "cell_type": "code",
   "execution_count": 31,
   "id": "14992873",
   "metadata": {},
   "outputs": [],
   "source": [
    "temp_input = list(x_input)\n",
    "temp_input = temp_input[0].tolist()"
   ]
  },
  {
   "cell_type": "code",
   "execution_count": 32,
   "id": "0d78eea8",
   "metadata": {},
   "outputs": [
    {
     "data": {
      "text/plain": [
       "[0.1636819035691922,\n",
       " 0.17092047589229803,\n",
       " 0.17204758922980584,\n",
       " 0.1636819035691922,\n",
       " 0.1658860363180964,\n",
       " 0.15769567939887286,\n",
       " 0.1487539135879774,\n",
       " 0.1444458359423919,\n",
       " 0.13918597370068875,\n",
       " 0.13720726361928615,\n",
       " 0.1325986224170319,\n",
       " 0.13237319974953032,\n",
       " 0.13119599248591102,\n",
       " 0.15902316844082653,\n",
       " 0.17016906700062612,\n",
       " 0.16974326862867878,\n",
       " 0.17282404508453347,\n",
       " 0.165460237946149,\n",
       " 0.16418284283030676,\n",
       " 0.16235441452723853,\n",
       " 0.17029430181590482,\n",
       " 0.17392611145898557,\n",
       " 0.16350657482780212,\n",
       " 0.1547902316844082,\n",
       " 0.15539135879774574,\n",
       " 0.16518472135253592,\n",
       " 0.1645835942391985,\n",
       " 0.15539135879774574,\n",
       " 0.15143393863494048,\n",
       " 0.14396994364433308,\n",
       " 0.13332498434564805,\n",
       " 0.14001252348152782,\n",
       " 0.14529743268628675,\n",
       " 0.14597370068879145,\n",
       " 0.14116468378209135,\n",
       " 0.14958046336881647,\n",
       " 0.1487539135879774,\n",
       " 0.14108954289292414,\n",
       " 0.13139636819035688,\n",
       " 0.1267376330619912,\n",
       " 0.1405385097056981,\n",
       " 0.12944270507201,\n",
       " 0.11994990607388845,\n",
       " 0.10965560425798371,\n",
       " 0.12085159674389478,\n",
       " 0.13212273011897302,\n",
       " 0.13470256731371316,\n",
       " 0.14311834690043823,\n",
       " 0.14662492172824038,\n",
       " 0.1552410770194113,\n",
       " 0.1587226048841578,\n",
       " 0.16839073262366933,\n",
       " 0.17001878522229175,\n",
       " 0.17222291797119593,\n",
       " 0.18063869755792106,\n",
       " 0.1776581089542893,\n",
       " 0.16974326862867878,\n",
       " 0.16899185973700687,\n",
       " 0.1793362554790231,\n",
       " 0.17087038196618654,\n",
       " 0.16278021289918598,\n",
       " 0.1635566687539135,\n",
       " 0.158422041327489,\n",
       " 0.14755165936130238,\n",
       " 0.1523356293049467,\n",
       " 0.15919849718221663,\n",
       " 0.14639949906073885,\n",
       " 0.1458484658735128,\n",
       " 0.15168440826549778,\n",
       " 0.15125860989355033,\n",
       " 0.14922980588603624,\n",
       " 0.13763306199123349,\n",
       " 0.140363180964308,\n",
       " 0.1251346274264245,\n",
       " 0.12455854727614268,\n",
       " 0.14226675015654344,\n",
       " 0.12726361928616153,\n",
       " 0.12804007514088916,\n",
       " 0.13184721352536,\n",
       " 0.14822792736380713,\n",
       " 0.12505948653725735,\n",
       " 0.12633688165309953,\n",
       " 0.11326236693800873,\n",
       " 0.11939887288666245,\n",
       " 0.09933625547902314,\n",
       " 0.08946775203506574,\n",
       " 0.10086412022542268,\n",
       " 0.09693174702567309,\n",
       " 0.10619912335629306,\n",
       " 0.08510958046336875,\n",
       " 0.0764182842830306,\n",
       " 0.07701941139636814,\n",
       " 0.09084533500313086,\n",
       " 0.08395742016280527,\n",
       " 0.0843581715716969,\n",
       " 0.09252348152786471,\n",
       " 0.10720100187852216,\n",
       " 0.10519724483406384,\n",
       " 0.10487163431433938,\n",
       " 0.11113337507827176]"
      ]
     },
     "execution_count": 32,
     "metadata": {},
     "output_type": "execute_result"
    }
   ],
   "source": [
    "temp_input\n"
   ]
  },
  {
   "cell_type": "code",
   "execution_count": 33,
   "id": "9d5edfa0",
   "metadata": {},
   "outputs": [
    {
     "name": "stdout",
     "output_type": "stream",
     "text": [
      "1/1 [==============================] - 0s 23ms/step\n",
      "[0.08369023]\n",
      "101\n",
      "1 day input [0.17092048 0.17204759 0.1636819  0.16588604 0.15769568 0.14875391\n",
      " 0.14444584 0.13918597 0.13720726 0.13259862 0.1323732  0.13119599\n",
      " 0.15902317 0.17016907 0.16974327 0.17282405 0.16546024 0.16418284\n",
      " 0.16235441 0.1702943  0.17392611 0.16350657 0.15479023 0.15539136\n",
      " 0.16518472 0.16458359 0.15539136 0.15143394 0.14396994 0.13332498\n",
      " 0.14001252 0.14529743 0.1459737  0.14116468 0.14958046 0.14875391\n",
      " 0.14108954 0.13139637 0.12673763 0.14053851 0.12944271 0.11994991\n",
      " 0.1096556  0.1208516  0.13212273 0.13470257 0.14311835 0.14662492\n",
      " 0.15524108 0.1587226  0.16839073 0.17001879 0.17222292 0.1806387\n",
      " 0.17765811 0.16974327 0.16899186 0.17933626 0.17087038 0.16278021\n",
      " 0.16355667 0.15842204 0.14755166 0.15233563 0.1591985  0.1463995\n",
      " 0.14584847 0.15168441 0.15125861 0.14922981 0.13763306 0.14036318\n",
      " 0.12513463 0.12455855 0.14226675 0.12726362 0.12804008 0.13184721\n",
      " 0.14822793 0.12505949 0.12633688 0.11326237 0.11939887 0.09933626\n",
      " 0.08946775 0.10086412 0.09693175 0.10619912 0.08510958 0.07641828\n",
      " 0.07701941 0.09084534 0.08395742 0.08435817 0.09252348 0.107201\n",
      " 0.10519724 0.10487163 0.11113338 0.08369023]\n",
      "1/1 [==============================] - 0s 24ms/step\n",
      "1 day output [[0.08635911]]\n",
      "2 day input [0.17204759 0.1636819  0.16588604 0.15769568 0.14875391 0.14444584\n",
      " 0.13918597 0.13720726 0.13259862 0.1323732  0.13119599 0.15902317\n",
      " 0.17016907 0.16974327 0.17282405 0.16546024 0.16418284 0.16235441\n",
      " 0.1702943  0.17392611 0.16350657 0.15479023 0.15539136 0.16518472\n",
      " 0.16458359 0.15539136 0.15143394 0.14396994 0.13332498 0.14001252\n",
      " 0.14529743 0.1459737  0.14116468 0.14958046 0.14875391 0.14108954\n",
      " 0.13139637 0.12673763 0.14053851 0.12944271 0.11994991 0.1096556\n",
      " 0.1208516  0.13212273 0.13470257 0.14311835 0.14662492 0.15524108\n",
      " 0.1587226  0.16839073 0.17001879 0.17222292 0.1806387  0.17765811\n",
      " 0.16974327 0.16899186 0.17933626 0.17087038 0.16278021 0.16355667\n",
      " 0.15842204 0.14755166 0.15233563 0.1591985  0.1463995  0.14584847\n",
      " 0.15168441 0.15125861 0.14922981 0.13763306 0.14036318 0.12513463\n",
      " 0.12455855 0.14226675 0.12726362 0.12804008 0.13184721 0.14822793\n",
      " 0.12505949 0.12633688 0.11326237 0.11939887 0.09933626 0.08946775\n",
      " 0.10086412 0.09693175 0.10619912 0.08510958 0.07641828 0.07701941\n",
      " 0.09084534 0.08395742 0.08435817 0.09252348 0.107201   0.10519724\n",
      " 0.10487163 0.11113338 0.08369023 0.08635911]\n",
      "1/1 [==============================] - 0s 22ms/step\n",
      "2 day output [[0.08774094]]\n",
      "3 day input [0.1636819  0.16588604 0.15769568 0.14875391 0.14444584 0.13918597\n",
      " 0.13720726 0.13259862 0.1323732  0.13119599 0.15902317 0.17016907\n",
      " 0.16974327 0.17282405 0.16546024 0.16418284 0.16235441 0.1702943\n",
      " 0.17392611 0.16350657 0.15479023 0.15539136 0.16518472 0.16458359\n",
      " 0.15539136 0.15143394 0.14396994 0.13332498 0.14001252 0.14529743\n",
      " 0.1459737  0.14116468 0.14958046 0.14875391 0.14108954 0.13139637\n",
      " 0.12673763 0.14053851 0.12944271 0.11994991 0.1096556  0.1208516\n",
      " 0.13212273 0.13470257 0.14311835 0.14662492 0.15524108 0.1587226\n",
      " 0.16839073 0.17001879 0.17222292 0.1806387  0.17765811 0.16974327\n",
      " 0.16899186 0.17933626 0.17087038 0.16278021 0.16355667 0.15842204\n",
      " 0.14755166 0.15233563 0.1591985  0.1463995  0.14584847 0.15168441\n",
      " 0.15125861 0.14922981 0.13763306 0.14036318 0.12513463 0.12455855\n",
      " 0.14226675 0.12726362 0.12804008 0.13184721 0.14822793 0.12505949\n",
      " 0.12633688 0.11326237 0.11939887 0.09933626 0.08946775 0.10086412\n",
      " 0.09693175 0.10619912 0.08510958 0.07641828 0.07701941 0.09084534\n",
      " 0.08395742 0.08435817 0.09252348 0.107201   0.10519724 0.10487163\n",
      " 0.11113338 0.08369023 0.08635911 0.08774094]\n",
      "1/1 [==============================] - 0s 24ms/step\n",
      "3 day output [[0.08793614]]\n",
      "4 day input [0.16588604 0.15769568 0.14875391 0.14444584 0.13918597 0.13720726\n",
      " 0.13259862 0.1323732  0.13119599 0.15902317 0.17016907 0.16974327\n",
      " 0.17282405 0.16546024 0.16418284 0.16235441 0.1702943  0.17392611\n",
      " 0.16350657 0.15479023 0.15539136 0.16518472 0.16458359 0.15539136\n",
      " 0.15143394 0.14396994 0.13332498 0.14001252 0.14529743 0.1459737\n",
      " 0.14116468 0.14958046 0.14875391 0.14108954 0.13139637 0.12673763\n",
      " 0.14053851 0.12944271 0.11994991 0.1096556  0.1208516  0.13212273\n",
      " 0.13470257 0.14311835 0.14662492 0.15524108 0.1587226  0.16839073\n",
      " 0.17001879 0.17222292 0.1806387  0.17765811 0.16974327 0.16899186\n",
      " 0.17933626 0.17087038 0.16278021 0.16355667 0.15842204 0.14755166\n",
      " 0.15233563 0.1591985  0.1463995  0.14584847 0.15168441 0.15125861\n",
      " 0.14922981 0.13763306 0.14036318 0.12513463 0.12455855 0.14226675\n",
      " 0.12726362 0.12804008 0.13184721 0.14822793 0.12505949 0.12633688\n",
      " 0.11326237 0.11939887 0.09933626 0.08946775 0.10086412 0.09693175\n",
      " 0.10619912 0.08510958 0.07641828 0.07701941 0.09084534 0.08395742\n",
      " 0.08435817 0.09252348 0.107201   0.10519724 0.10487163 0.11113338\n",
      " 0.08369023 0.08635911 0.08774094 0.08793614]\n",
      "1/1 [==============================] - 0s 26ms/step\n",
      "4 day output [[0.08723615]]\n",
      "5 day input [0.15769568 0.14875391 0.14444584 0.13918597 0.13720726 0.13259862\n",
      " 0.1323732  0.13119599 0.15902317 0.17016907 0.16974327 0.17282405\n",
      " 0.16546024 0.16418284 0.16235441 0.1702943  0.17392611 0.16350657\n",
      " 0.15479023 0.15539136 0.16518472 0.16458359 0.15539136 0.15143394\n",
      " 0.14396994 0.13332498 0.14001252 0.14529743 0.1459737  0.14116468\n",
      " 0.14958046 0.14875391 0.14108954 0.13139637 0.12673763 0.14053851\n",
      " 0.12944271 0.11994991 0.1096556  0.1208516  0.13212273 0.13470257\n",
      " 0.14311835 0.14662492 0.15524108 0.1587226  0.16839073 0.17001879\n",
      " 0.17222292 0.1806387  0.17765811 0.16974327 0.16899186 0.17933626\n",
      " 0.17087038 0.16278021 0.16355667 0.15842204 0.14755166 0.15233563\n",
      " 0.1591985  0.1463995  0.14584847 0.15168441 0.15125861 0.14922981\n",
      " 0.13763306 0.14036318 0.12513463 0.12455855 0.14226675 0.12726362\n",
      " 0.12804008 0.13184721 0.14822793 0.12505949 0.12633688 0.11326237\n",
      " 0.11939887 0.09933626 0.08946775 0.10086412 0.09693175 0.10619912\n",
      " 0.08510958 0.07641828 0.07701941 0.09084534 0.08395742 0.08435817\n",
      " 0.09252348 0.107201   0.10519724 0.10487163 0.11113338 0.08369023\n",
      " 0.08635911 0.08774094 0.08793614 0.08723615]\n",
      "1/1 [==============================] - 0s 26ms/step\n",
      "5 day output [[0.08594227]]\n",
      "6 day input [0.14875391 0.14444584 0.13918597 0.13720726 0.13259862 0.1323732\n",
      " 0.13119599 0.15902317 0.17016907 0.16974327 0.17282405 0.16546024\n",
      " 0.16418284 0.16235441 0.1702943  0.17392611 0.16350657 0.15479023\n",
      " 0.15539136 0.16518472 0.16458359 0.15539136 0.15143394 0.14396994\n",
      " 0.13332498 0.14001252 0.14529743 0.1459737  0.14116468 0.14958046\n",
      " 0.14875391 0.14108954 0.13139637 0.12673763 0.14053851 0.12944271\n",
      " 0.11994991 0.1096556  0.1208516  0.13212273 0.13470257 0.14311835\n",
      " 0.14662492 0.15524108 0.1587226  0.16839073 0.17001879 0.17222292\n",
      " 0.1806387  0.17765811 0.16974327 0.16899186 0.17933626 0.17087038\n",
      " 0.16278021 0.16355667 0.15842204 0.14755166 0.15233563 0.1591985\n",
      " 0.1463995  0.14584847 0.15168441 0.15125861 0.14922981 0.13763306\n",
      " 0.14036318 0.12513463 0.12455855 0.14226675 0.12726362 0.12804008\n",
      " 0.13184721 0.14822793 0.12505949 0.12633688 0.11326237 0.11939887\n",
      " 0.09933626 0.08946775 0.10086412 0.09693175 0.10619912 0.08510958\n",
      " 0.07641828 0.07701941 0.09084534 0.08395742 0.08435817 0.09252348\n",
      " 0.107201   0.10519724 0.10487163 0.11113338 0.08369023 0.08635911\n",
      " 0.08774094 0.08793614 0.08723615 0.08594227]\n",
      "1/1 [==============================] - 0s 24ms/step\n",
      "6 day output [[0.08429305]]\n",
      "7 day input [0.14444584 0.13918597 0.13720726 0.13259862 0.1323732  0.13119599\n",
      " 0.15902317 0.17016907 0.16974327 0.17282405 0.16546024 0.16418284\n",
      " 0.16235441 0.1702943  0.17392611 0.16350657 0.15479023 0.15539136\n",
      " 0.16518472 0.16458359 0.15539136 0.15143394 0.14396994 0.13332498\n",
      " 0.14001252 0.14529743 0.1459737  0.14116468 0.14958046 0.14875391\n",
      " 0.14108954 0.13139637 0.12673763 0.14053851 0.12944271 0.11994991\n",
      " 0.1096556  0.1208516  0.13212273 0.13470257 0.14311835 0.14662492\n",
      " 0.15524108 0.1587226  0.16839073 0.17001879 0.17222292 0.1806387\n",
      " 0.17765811 0.16974327 0.16899186 0.17933626 0.17087038 0.16278021\n",
      " 0.16355667 0.15842204 0.14755166 0.15233563 0.1591985  0.1463995\n",
      " 0.14584847 0.15168441 0.15125861 0.14922981 0.13763306 0.14036318\n",
      " 0.12513463 0.12455855 0.14226675 0.12726362 0.12804008 0.13184721\n",
      " 0.14822793 0.12505949 0.12633688 0.11326237 0.11939887 0.09933626\n",
      " 0.08946775 0.10086412 0.09693175 0.10619912 0.08510958 0.07641828\n",
      " 0.07701941 0.09084534 0.08395742 0.08435817 0.09252348 0.107201\n",
      " 0.10519724 0.10487163 0.11113338 0.08369023 0.08635911 0.08774094\n",
      " 0.08793614 0.08723615 0.08594227 0.08429305]\n"
     ]
    },
    {
     "name": "stdout",
     "output_type": "stream",
     "text": [
      "1/1 [==============================] - 0s 24ms/step\n",
      "7 day output [[0.08245101]]\n",
      "8 day input [0.13918597 0.13720726 0.13259862 0.1323732  0.13119599 0.15902317\n",
      " 0.17016907 0.16974327 0.17282405 0.16546024 0.16418284 0.16235441\n",
      " 0.1702943  0.17392611 0.16350657 0.15479023 0.15539136 0.16518472\n",
      " 0.16458359 0.15539136 0.15143394 0.14396994 0.13332498 0.14001252\n",
      " 0.14529743 0.1459737  0.14116468 0.14958046 0.14875391 0.14108954\n",
      " 0.13139637 0.12673763 0.14053851 0.12944271 0.11994991 0.1096556\n",
      " 0.1208516  0.13212273 0.13470257 0.14311835 0.14662492 0.15524108\n",
      " 0.1587226  0.16839073 0.17001879 0.17222292 0.1806387  0.17765811\n",
      " 0.16974327 0.16899186 0.17933626 0.17087038 0.16278021 0.16355667\n",
      " 0.15842204 0.14755166 0.15233563 0.1591985  0.1463995  0.14584847\n",
      " 0.15168441 0.15125861 0.14922981 0.13763306 0.14036318 0.12513463\n",
      " 0.12455855 0.14226675 0.12726362 0.12804008 0.13184721 0.14822793\n",
      " 0.12505949 0.12633688 0.11326237 0.11939887 0.09933626 0.08946775\n",
      " 0.10086412 0.09693175 0.10619912 0.08510958 0.07641828 0.07701941\n",
      " 0.09084534 0.08395742 0.08435817 0.09252348 0.107201   0.10519724\n",
      " 0.10487163 0.11113338 0.08369023 0.08635911 0.08774094 0.08793614\n",
      " 0.08723615 0.08594227 0.08429305 0.08245101]\n",
      "1/1 [==============================] - 0s 24ms/step\n",
      "8 day output [[0.08051485]]\n",
      "9 day input [0.13720726 0.13259862 0.1323732  0.13119599 0.15902317 0.17016907\n",
      " 0.16974327 0.17282405 0.16546024 0.16418284 0.16235441 0.1702943\n",
      " 0.17392611 0.16350657 0.15479023 0.15539136 0.16518472 0.16458359\n",
      " 0.15539136 0.15143394 0.14396994 0.13332498 0.14001252 0.14529743\n",
      " 0.1459737  0.14116468 0.14958046 0.14875391 0.14108954 0.13139637\n",
      " 0.12673763 0.14053851 0.12944271 0.11994991 0.1096556  0.1208516\n",
      " 0.13212273 0.13470257 0.14311835 0.14662492 0.15524108 0.1587226\n",
      " 0.16839073 0.17001879 0.17222292 0.1806387  0.17765811 0.16974327\n",
      " 0.16899186 0.17933626 0.17087038 0.16278021 0.16355667 0.15842204\n",
      " 0.14755166 0.15233563 0.1591985  0.1463995  0.14584847 0.15168441\n",
      " 0.15125861 0.14922981 0.13763306 0.14036318 0.12513463 0.12455855\n",
      " 0.14226675 0.12726362 0.12804008 0.13184721 0.14822793 0.12505949\n",
      " 0.12633688 0.11326237 0.11939887 0.09933626 0.08946775 0.10086412\n",
      " 0.09693175 0.10619912 0.08510958 0.07641828 0.07701941 0.09084534\n",
      " 0.08395742 0.08435817 0.09252348 0.107201   0.10519724 0.10487163\n",
      " 0.11113338 0.08369023 0.08635911 0.08774094 0.08793614 0.08723615\n",
      " 0.08594227 0.08429305 0.08245101 0.08051485]\n",
      "1/1 [==============================] - 0s 25ms/step\n",
      "9 day output [[0.07853883]]\n",
      "10 day input [0.13259862 0.1323732  0.13119599 0.15902317 0.17016907 0.16974327\n",
      " 0.17282405 0.16546024 0.16418284 0.16235441 0.1702943  0.17392611\n",
      " 0.16350657 0.15479023 0.15539136 0.16518472 0.16458359 0.15539136\n",
      " 0.15143394 0.14396994 0.13332498 0.14001252 0.14529743 0.1459737\n",
      " 0.14116468 0.14958046 0.14875391 0.14108954 0.13139637 0.12673763\n",
      " 0.14053851 0.12944271 0.11994991 0.1096556  0.1208516  0.13212273\n",
      " 0.13470257 0.14311835 0.14662492 0.15524108 0.1587226  0.16839073\n",
      " 0.17001879 0.17222292 0.1806387  0.17765811 0.16974327 0.16899186\n",
      " 0.17933626 0.17087038 0.16278021 0.16355667 0.15842204 0.14755166\n",
      " 0.15233563 0.1591985  0.1463995  0.14584847 0.15168441 0.15125861\n",
      " 0.14922981 0.13763306 0.14036318 0.12513463 0.12455855 0.14226675\n",
      " 0.12726362 0.12804008 0.13184721 0.14822793 0.12505949 0.12633688\n",
      " 0.11326237 0.11939887 0.09933626 0.08946775 0.10086412 0.09693175\n",
      " 0.10619912 0.08510958 0.07641828 0.07701941 0.09084534 0.08395742\n",
      " 0.08435817 0.09252348 0.107201   0.10519724 0.10487163 0.11113338\n",
      " 0.08369023 0.08635911 0.08774094 0.08793614 0.08723615 0.08594227\n",
      " 0.08429305 0.08245101 0.08051485 0.07853883]\n",
      "1/1 [==============================] - 0s 25ms/step\n",
      "10 day output [[0.07655004]]\n",
      "11 day input [0.1323732  0.13119599 0.15902317 0.17016907 0.16974327 0.17282405\n",
      " 0.16546024 0.16418284 0.16235441 0.1702943  0.17392611 0.16350657\n",
      " 0.15479023 0.15539136 0.16518472 0.16458359 0.15539136 0.15143394\n",
      " 0.14396994 0.13332498 0.14001252 0.14529743 0.1459737  0.14116468\n",
      " 0.14958046 0.14875391 0.14108954 0.13139637 0.12673763 0.14053851\n",
      " 0.12944271 0.11994991 0.1096556  0.1208516  0.13212273 0.13470257\n",
      " 0.14311835 0.14662492 0.15524108 0.1587226  0.16839073 0.17001879\n",
      " 0.17222292 0.1806387  0.17765811 0.16974327 0.16899186 0.17933626\n",
      " 0.17087038 0.16278021 0.16355667 0.15842204 0.14755166 0.15233563\n",
      " 0.1591985  0.1463995  0.14584847 0.15168441 0.15125861 0.14922981\n",
      " 0.13763306 0.14036318 0.12513463 0.12455855 0.14226675 0.12726362\n",
      " 0.12804008 0.13184721 0.14822793 0.12505949 0.12633688 0.11326237\n",
      " 0.11939887 0.09933626 0.08946775 0.10086412 0.09693175 0.10619912\n",
      " 0.08510958 0.07641828 0.07701941 0.09084534 0.08395742 0.08435817\n",
      " 0.09252348 0.107201   0.10519724 0.10487163 0.11113338 0.08369023\n",
      " 0.08635911 0.08774094 0.08793614 0.08723615 0.08594227 0.08429305\n",
      " 0.08245101 0.08051485 0.07853883 0.07655004]\n",
      "1/1 [==============================] - 0s 25ms/step\n",
      "11 day output [[0.07456103]]\n",
      "12 day input [0.13119599 0.15902317 0.17016907 0.16974327 0.17282405 0.16546024\n",
      " 0.16418284 0.16235441 0.1702943  0.17392611 0.16350657 0.15479023\n",
      " 0.15539136 0.16518472 0.16458359 0.15539136 0.15143394 0.14396994\n",
      " 0.13332498 0.14001252 0.14529743 0.1459737  0.14116468 0.14958046\n",
      " 0.14875391 0.14108954 0.13139637 0.12673763 0.14053851 0.12944271\n",
      " 0.11994991 0.1096556  0.1208516  0.13212273 0.13470257 0.14311835\n",
      " 0.14662492 0.15524108 0.1587226  0.16839073 0.17001879 0.17222292\n",
      " 0.1806387  0.17765811 0.16974327 0.16899186 0.17933626 0.17087038\n",
      " 0.16278021 0.16355667 0.15842204 0.14755166 0.15233563 0.1591985\n",
      " 0.1463995  0.14584847 0.15168441 0.15125861 0.14922981 0.13763306\n",
      " 0.14036318 0.12513463 0.12455855 0.14226675 0.12726362 0.12804008\n",
      " 0.13184721 0.14822793 0.12505949 0.12633688 0.11326237 0.11939887\n",
      " 0.09933626 0.08946775 0.10086412 0.09693175 0.10619912 0.08510958\n",
      " 0.07641828 0.07701941 0.09084534 0.08395742 0.08435817 0.09252348\n",
      " 0.107201   0.10519724 0.10487163 0.11113338 0.08369023 0.08635911\n",
      " 0.08774094 0.08793614 0.08723615 0.08594227 0.08429305 0.08245101\n",
      " 0.08051485 0.07853883 0.07655004 0.07456103]\n",
      "1/1 [==============================] - 0s 25ms/step\n",
      "12 day output [[0.07257774]]\n",
      "13 day input [0.15902317 0.17016907 0.16974327 0.17282405 0.16546024 0.16418284\n",
      " 0.16235441 0.1702943  0.17392611 0.16350657 0.15479023 0.15539136\n",
      " 0.16518472 0.16458359 0.15539136 0.15143394 0.14396994 0.13332498\n",
      " 0.14001252 0.14529743 0.1459737  0.14116468 0.14958046 0.14875391\n",
      " 0.14108954 0.13139637 0.12673763 0.14053851 0.12944271 0.11994991\n",
      " 0.1096556  0.1208516  0.13212273 0.13470257 0.14311835 0.14662492\n",
      " 0.15524108 0.1587226  0.16839073 0.17001879 0.17222292 0.1806387\n",
      " 0.17765811 0.16974327 0.16899186 0.17933626 0.17087038 0.16278021\n",
      " 0.16355667 0.15842204 0.14755166 0.15233563 0.1591985  0.1463995\n",
      " 0.14584847 0.15168441 0.15125861 0.14922981 0.13763306 0.14036318\n",
      " 0.12513463 0.12455855 0.14226675 0.12726362 0.12804008 0.13184721\n",
      " 0.14822793 0.12505949 0.12633688 0.11326237 0.11939887 0.09933626\n",
      " 0.08946775 0.10086412 0.09693175 0.10619912 0.08510958 0.07641828\n",
      " 0.07701941 0.09084534 0.08395742 0.08435817 0.09252348 0.107201\n",
      " 0.10519724 0.10487163 0.11113338 0.08369023 0.08635911 0.08774094\n",
      " 0.08793614 0.08723615 0.08594227 0.08429305 0.08245101 0.08051485\n",
      " 0.07853883 0.07655004 0.07456103 0.07257774]\n",
      "1/1 [==============================] - 0s 25ms/step\n",
      "13 day output [[0.07060361]]\n",
      "14 day input [0.17016907 0.16974327 0.17282405 0.16546024 0.16418284 0.16235441\n",
      " 0.1702943  0.17392611 0.16350657 0.15479023 0.15539136 0.16518472\n",
      " 0.16458359 0.15539136 0.15143394 0.14396994 0.13332498 0.14001252\n",
      " 0.14529743 0.1459737  0.14116468 0.14958046 0.14875391 0.14108954\n",
      " 0.13139637 0.12673763 0.14053851 0.12944271 0.11994991 0.1096556\n",
      " 0.1208516  0.13212273 0.13470257 0.14311835 0.14662492 0.15524108\n",
      " 0.1587226  0.16839073 0.17001879 0.17222292 0.1806387  0.17765811\n",
      " 0.16974327 0.16899186 0.17933626 0.17087038 0.16278021 0.16355667\n",
      " 0.15842204 0.14755166 0.15233563 0.1591985  0.1463995  0.14584847\n",
      " 0.15168441 0.15125861 0.14922981 0.13763306 0.14036318 0.12513463\n",
      " 0.12455855 0.14226675 0.12726362 0.12804008 0.13184721 0.14822793\n",
      " 0.12505949 0.12633688 0.11326237 0.11939887 0.09933626 0.08946775\n",
      " 0.10086412 0.09693175 0.10619912 0.08510958 0.07641828 0.07701941\n",
      " 0.09084534 0.08395742 0.08435817 0.09252348 0.107201   0.10519724\n",
      " 0.10487163 0.11113338 0.08369023 0.08635911 0.08774094 0.08793614\n",
      " 0.08723615 0.08594227 0.08429305 0.08245101 0.08051485 0.07853883\n",
      " 0.07655004 0.07456103 0.07257774 0.07060361]\n"
     ]
    },
    {
     "name": "stdout",
     "output_type": "stream",
     "text": [
      "1/1 [==============================] - 0s 24ms/step\n",
      "14 day output [[0.06864151]]\n",
      "15 day input [0.16974327 0.17282405 0.16546024 0.16418284 0.16235441 0.1702943\n",
      " 0.17392611 0.16350657 0.15479023 0.15539136 0.16518472 0.16458359\n",
      " 0.15539136 0.15143394 0.14396994 0.13332498 0.14001252 0.14529743\n",
      " 0.1459737  0.14116468 0.14958046 0.14875391 0.14108954 0.13139637\n",
      " 0.12673763 0.14053851 0.12944271 0.11994991 0.1096556  0.1208516\n",
      " 0.13212273 0.13470257 0.14311835 0.14662492 0.15524108 0.1587226\n",
      " 0.16839073 0.17001879 0.17222292 0.1806387  0.17765811 0.16974327\n",
      " 0.16899186 0.17933626 0.17087038 0.16278021 0.16355667 0.15842204\n",
      " 0.14755166 0.15233563 0.1591985  0.1463995  0.14584847 0.15168441\n",
      " 0.15125861 0.14922981 0.13763306 0.14036318 0.12513463 0.12455855\n",
      " 0.14226675 0.12726362 0.12804008 0.13184721 0.14822793 0.12505949\n",
      " 0.12633688 0.11326237 0.11939887 0.09933626 0.08946775 0.10086412\n",
      " 0.09693175 0.10619912 0.08510958 0.07641828 0.07701941 0.09084534\n",
      " 0.08395742 0.08435817 0.09252348 0.107201   0.10519724 0.10487163\n",
      " 0.11113338 0.08369023 0.08635911 0.08774094 0.08793614 0.08723615\n",
      " 0.08594227 0.08429305 0.08245101 0.08051485 0.07853883 0.07655004\n",
      " 0.07456103 0.07257774 0.07060361 0.06864151]\n",
      "1/1 [==============================] - 0s 25ms/step\n",
      "15 day output [[0.06669445]]\n",
      "16 day input [0.17282405 0.16546024 0.16418284 0.16235441 0.1702943  0.17392611\n",
      " 0.16350657 0.15479023 0.15539136 0.16518472 0.16458359 0.15539136\n",
      " 0.15143394 0.14396994 0.13332498 0.14001252 0.14529743 0.1459737\n",
      " 0.14116468 0.14958046 0.14875391 0.14108954 0.13139637 0.12673763\n",
      " 0.14053851 0.12944271 0.11994991 0.1096556  0.1208516  0.13212273\n",
      " 0.13470257 0.14311835 0.14662492 0.15524108 0.1587226  0.16839073\n",
      " 0.17001879 0.17222292 0.1806387  0.17765811 0.16974327 0.16899186\n",
      " 0.17933626 0.17087038 0.16278021 0.16355667 0.15842204 0.14755166\n",
      " 0.15233563 0.1591985  0.1463995  0.14584847 0.15168441 0.15125861\n",
      " 0.14922981 0.13763306 0.14036318 0.12513463 0.12455855 0.14226675\n",
      " 0.12726362 0.12804008 0.13184721 0.14822793 0.12505949 0.12633688\n",
      " 0.11326237 0.11939887 0.09933626 0.08946775 0.10086412 0.09693175\n",
      " 0.10619912 0.08510958 0.07641828 0.07701941 0.09084534 0.08395742\n",
      " 0.08435817 0.09252348 0.107201   0.10519724 0.10487163 0.11113338\n",
      " 0.08369023 0.08635911 0.08774094 0.08793614 0.08723615 0.08594227\n",
      " 0.08429305 0.08245101 0.08051485 0.07853883 0.07655004 0.07456103\n",
      " 0.07257774 0.07060361 0.06864151 0.06669445]\n",
      "1/1 [==============================] - 0s 24ms/step\n",
      "16 day output [[0.06476539]]\n",
      "17 day input [0.16546024 0.16418284 0.16235441 0.1702943  0.17392611 0.16350657\n",
      " 0.15479023 0.15539136 0.16518472 0.16458359 0.15539136 0.15143394\n",
      " 0.14396994 0.13332498 0.14001252 0.14529743 0.1459737  0.14116468\n",
      " 0.14958046 0.14875391 0.14108954 0.13139637 0.12673763 0.14053851\n",
      " 0.12944271 0.11994991 0.1096556  0.1208516  0.13212273 0.13470257\n",
      " 0.14311835 0.14662492 0.15524108 0.1587226  0.16839073 0.17001879\n",
      " 0.17222292 0.1806387  0.17765811 0.16974327 0.16899186 0.17933626\n",
      " 0.17087038 0.16278021 0.16355667 0.15842204 0.14755166 0.15233563\n",
      " 0.1591985  0.1463995  0.14584847 0.15168441 0.15125861 0.14922981\n",
      " 0.13763306 0.14036318 0.12513463 0.12455855 0.14226675 0.12726362\n",
      " 0.12804008 0.13184721 0.14822793 0.12505949 0.12633688 0.11326237\n",
      " 0.11939887 0.09933626 0.08946775 0.10086412 0.09693175 0.10619912\n",
      " 0.08510958 0.07641828 0.07701941 0.09084534 0.08395742 0.08435817\n",
      " 0.09252348 0.107201   0.10519724 0.10487163 0.11113338 0.08369023\n",
      " 0.08635911 0.08774094 0.08793614 0.08723615 0.08594227 0.08429305\n",
      " 0.08245101 0.08051485 0.07853883 0.07655004 0.07456103 0.07257774\n",
      " 0.07060361 0.06864151 0.06669445 0.06476539]\n",
      "1/1 [==============================] - 0s 24ms/step\n",
      "17 day output [[0.06285718]]\n",
      "18 day input [0.16418284 0.16235441 0.1702943  0.17392611 0.16350657 0.15479023\n",
      " 0.15539136 0.16518472 0.16458359 0.15539136 0.15143394 0.14396994\n",
      " 0.13332498 0.14001252 0.14529743 0.1459737  0.14116468 0.14958046\n",
      " 0.14875391 0.14108954 0.13139637 0.12673763 0.14053851 0.12944271\n",
      " 0.11994991 0.1096556  0.1208516  0.13212273 0.13470257 0.14311835\n",
      " 0.14662492 0.15524108 0.1587226  0.16839073 0.17001879 0.17222292\n",
      " 0.1806387  0.17765811 0.16974327 0.16899186 0.17933626 0.17087038\n",
      " 0.16278021 0.16355667 0.15842204 0.14755166 0.15233563 0.1591985\n",
      " 0.1463995  0.14584847 0.15168441 0.15125861 0.14922981 0.13763306\n",
      " 0.14036318 0.12513463 0.12455855 0.14226675 0.12726362 0.12804008\n",
      " 0.13184721 0.14822793 0.12505949 0.12633688 0.11326237 0.11939887\n",
      " 0.09933626 0.08946775 0.10086412 0.09693175 0.10619912 0.08510958\n",
      " 0.07641828 0.07701941 0.09084534 0.08395742 0.08435817 0.09252348\n",
      " 0.107201   0.10519724 0.10487163 0.11113338 0.08369023 0.08635911\n",
      " 0.08774094 0.08793614 0.08723615 0.08594227 0.08429305 0.08245101\n",
      " 0.08051485 0.07853883 0.07655004 0.07456103 0.07257774 0.07060361\n",
      " 0.06864151 0.06669445 0.06476539 0.06285718]\n",
      "1/1 [==============================] - 0s 25ms/step\n",
      "18 day output [[0.0609723]]\n",
      "19 day input [0.16235441 0.1702943  0.17392611 0.16350657 0.15479023 0.15539136\n",
      " 0.16518472 0.16458359 0.15539136 0.15143394 0.14396994 0.13332498\n",
      " 0.14001252 0.14529743 0.1459737  0.14116468 0.14958046 0.14875391\n",
      " 0.14108954 0.13139637 0.12673763 0.14053851 0.12944271 0.11994991\n",
      " 0.1096556  0.1208516  0.13212273 0.13470257 0.14311835 0.14662492\n",
      " 0.15524108 0.1587226  0.16839073 0.17001879 0.17222292 0.1806387\n",
      " 0.17765811 0.16974327 0.16899186 0.17933626 0.17087038 0.16278021\n",
      " 0.16355667 0.15842204 0.14755166 0.15233563 0.1591985  0.1463995\n",
      " 0.14584847 0.15168441 0.15125861 0.14922981 0.13763306 0.14036318\n",
      " 0.12513463 0.12455855 0.14226675 0.12726362 0.12804008 0.13184721\n",
      " 0.14822793 0.12505949 0.12633688 0.11326237 0.11939887 0.09933626\n",
      " 0.08946775 0.10086412 0.09693175 0.10619912 0.08510958 0.07641828\n",
      " 0.07701941 0.09084534 0.08395742 0.08435817 0.09252348 0.107201\n",
      " 0.10519724 0.10487163 0.11113338 0.08369023 0.08635911 0.08774094\n",
      " 0.08793614 0.08723615 0.08594227 0.08429305 0.08245101 0.08051485\n",
      " 0.07853883 0.07655004 0.07456103 0.07257774 0.07060361 0.06864151\n",
      " 0.06669445 0.06476539 0.06285718 0.0609723 ]\n",
      "1/1 [==============================] - 0s 24ms/step\n",
      "19 day output [[0.05911271]]\n",
      "20 day input [0.1702943  0.17392611 0.16350657 0.15479023 0.15539136 0.16518472\n",
      " 0.16458359 0.15539136 0.15143394 0.14396994 0.13332498 0.14001252\n",
      " 0.14529743 0.1459737  0.14116468 0.14958046 0.14875391 0.14108954\n",
      " 0.13139637 0.12673763 0.14053851 0.12944271 0.11994991 0.1096556\n",
      " 0.1208516  0.13212273 0.13470257 0.14311835 0.14662492 0.15524108\n",
      " 0.1587226  0.16839073 0.17001879 0.17222292 0.1806387  0.17765811\n",
      " 0.16974327 0.16899186 0.17933626 0.17087038 0.16278021 0.16355667\n",
      " 0.15842204 0.14755166 0.15233563 0.1591985  0.1463995  0.14584847\n",
      " 0.15168441 0.15125861 0.14922981 0.13763306 0.14036318 0.12513463\n",
      " 0.12455855 0.14226675 0.12726362 0.12804008 0.13184721 0.14822793\n",
      " 0.12505949 0.12633688 0.11326237 0.11939887 0.09933626 0.08946775\n",
      " 0.10086412 0.09693175 0.10619912 0.08510958 0.07641828 0.07701941\n",
      " 0.09084534 0.08395742 0.08435817 0.09252348 0.107201   0.10519724\n",
      " 0.10487163 0.11113338 0.08369023 0.08635911 0.08774094 0.08793614\n",
      " 0.08723615 0.08594227 0.08429305 0.08245101 0.08051485 0.07853883\n",
      " 0.07655004 0.07456103 0.07257774 0.07060361 0.06864151 0.06669445\n",
      " 0.06476539 0.06285718 0.0609723  0.05911271]\n",
      "1/1 [==============================] - 0s 26ms/step\n",
      "20 day output [[0.05727987]]\n",
      "21 day input [0.17392611 0.16350657 0.15479023 0.15539136 0.16518472 0.16458359\n",
      " 0.15539136 0.15143394 0.14396994 0.13332498 0.14001252 0.14529743\n",
      " 0.1459737  0.14116468 0.14958046 0.14875391 0.14108954 0.13139637\n",
      " 0.12673763 0.14053851 0.12944271 0.11994991 0.1096556  0.1208516\n",
      " 0.13212273 0.13470257 0.14311835 0.14662492 0.15524108 0.1587226\n",
      " 0.16839073 0.17001879 0.17222292 0.1806387  0.17765811 0.16974327\n",
      " 0.16899186 0.17933626 0.17087038 0.16278021 0.16355667 0.15842204\n",
      " 0.14755166 0.15233563 0.1591985  0.1463995  0.14584847 0.15168441\n",
      " 0.15125861 0.14922981 0.13763306 0.14036318 0.12513463 0.12455855\n",
      " 0.14226675 0.12726362 0.12804008 0.13184721 0.14822793 0.12505949\n",
      " 0.12633688 0.11326237 0.11939887 0.09933626 0.08946775 0.10086412\n",
      " 0.09693175 0.10619912 0.08510958 0.07641828 0.07701941 0.09084534\n",
      " 0.08395742 0.08435817 0.09252348 0.107201   0.10519724 0.10487163\n",
      " 0.11113338 0.08369023 0.08635911 0.08774094 0.08793614 0.08723615\n",
      " 0.08594227 0.08429305 0.08245101 0.08051485 0.07853883 0.07655004\n",
      " 0.07456103 0.07257774 0.07060361 0.06864151 0.06669445 0.06476539\n",
      " 0.06285718 0.0609723  0.05911271 0.05727987]\n"
     ]
    },
    {
     "name": "stdout",
     "output_type": "stream",
     "text": [
      "1/1 [==============================] - 0s 25ms/step\n",
      "21 day output [[0.05547466]]\n",
      "22 day input [0.16350657 0.15479023 0.15539136 0.16518472 0.16458359 0.15539136\n",
      " 0.15143394 0.14396994 0.13332498 0.14001252 0.14529743 0.1459737\n",
      " 0.14116468 0.14958046 0.14875391 0.14108954 0.13139637 0.12673763\n",
      " 0.14053851 0.12944271 0.11994991 0.1096556  0.1208516  0.13212273\n",
      " 0.13470257 0.14311835 0.14662492 0.15524108 0.1587226  0.16839073\n",
      " 0.17001879 0.17222292 0.1806387  0.17765811 0.16974327 0.16899186\n",
      " 0.17933626 0.17087038 0.16278021 0.16355667 0.15842204 0.14755166\n",
      " 0.15233563 0.1591985  0.1463995  0.14584847 0.15168441 0.15125861\n",
      " 0.14922981 0.13763306 0.14036318 0.12513463 0.12455855 0.14226675\n",
      " 0.12726362 0.12804008 0.13184721 0.14822793 0.12505949 0.12633688\n",
      " 0.11326237 0.11939887 0.09933626 0.08946775 0.10086412 0.09693175\n",
      " 0.10619912 0.08510958 0.07641828 0.07701941 0.09084534 0.08395742\n",
      " 0.08435817 0.09252348 0.107201   0.10519724 0.10487163 0.11113338\n",
      " 0.08369023 0.08635911 0.08774094 0.08793614 0.08723615 0.08594227\n",
      " 0.08429305 0.08245101 0.08051485 0.07853883 0.07655004 0.07456103\n",
      " 0.07257774 0.07060361 0.06864151 0.06669445 0.06476539 0.06285718\n",
      " 0.0609723  0.05911271 0.05727987 0.05547466]\n",
      "1/1 [==============================] - 0s 23ms/step\n",
      "22 day output [[0.05369753]]\n",
      "23 day input [0.15479023 0.15539136 0.16518472 0.16458359 0.15539136 0.15143394\n",
      " 0.14396994 0.13332498 0.14001252 0.14529743 0.1459737  0.14116468\n",
      " 0.14958046 0.14875391 0.14108954 0.13139637 0.12673763 0.14053851\n",
      " 0.12944271 0.11994991 0.1096556  0.1208516  0.13212273 0.13470257\n",
      " 0.14311835 0.14662492 0.15524108 0.1587226  0.16839073 0.17001879\n",
      " 0.17222292 0.1806387  0.17765811 0.16974327 0.16899186 0.17933626\n",
      " 0.17087038 0.16278021 0.16355667 0.15842204 0.14755166 0.15233563\n",
      " 0.1591985  0.1463995  0.14584847 0.15168441 0.15125861 0.14922981\n",
      " 0.13763306 0.14036318 0.12513463 0.12455855 0.14226675 0.12726362\n",
      " 0.12804008 0.13184721 0.14822793 0.12505949 0.12633688 0.11326237\n",
      " 0.11939887 0.09933626 0.08946775 0.10086412 0.09693175 0.10619912\n",
      " 0.08510958 0.07641828 0.07701941 0.09084534 0.08395742 0.08435817\n",
      " 0.09252348 0.107201   0.10519724 0.10487163 0.11113338 0.08369023\n",
      " 0.08635911 0.08774094 0.08793614 0.08723615 0.08594227 0.08429305\n",
      " 0.08245101 0.08051485 0.07853883 0.07655004 0.07456103 0.07257774\n",
      " 0.07060361 0.06864151 0.06669445 0.06476539 0.06285718 0.0609723\n",
      " 0.05911271 0.05727987 0.05547466 0.05369753]\n",
      "1/1 [==============================] - 0s 24ms/step\n",
      "23 day output [[0.05194851]]\n",
      "24 day input [0.15539136 0.16518472 0.16458359 0.15539136 0.15143394 0.14396994\n",
      " 0.13332498 0.14001252 0.14529743 0.1459737  0.14116468 0.14958046\n",
      " 0.14875391 0.14108954 0.13139637 0.12673763 0.14053851 0.12944271\n",
      " 0.11994991 0.1096556  0.1208516  0.13212273 0.13470257 0.14311835\n",
      " 0.14662492 0.15524108 0.1587226  0.16839073 0.17001879 0.17222292\n",
      " 0.1806387  0.17765811 0.16974327 0.16899186 0.17933626 0.17087038\n",
      " 0.16278021 0.16355667 0.15842204 0.14755166 0.15233563 0.1591985\n",
      " 0.1463995  0.14584847 0.15168441 0.15125861 0.14922981 0.13763306\n",
      " 0.14036318 0.12513463 0.12455855 0.14226675 0.12726362 0.12804008\n",
      " 0.13184721 0.14822793 0.12505949 0.12633688 0.11326237 0.11939887\n",
      " 0.09933626 0.08946775 0.10086412 0.09693175 0.10619912 0.08510958\n",
      " 0.07641828 0.07701941 0.09084534 0.08395742 0.08435817 0.09252348\n",
      " 0.107201   0.10519724 0.10487163 0.11113338 0.08369023 0.08635911\n",
      " 0.08774094 0.08793614 0.08723615 0.08594227 0.08429305 0.08245101\n",
      " 0.08051485 0.07853883 0.07655004 0.07456103 0.07257774 0.07060361\n",
      " 0.06864151 0.06669445 0.06476539 0.06285718 0.0609723  0.05911271\n",
      " 0.05727987 0.05547466 0.05369753 0.05194851]\n",
      "1/1 [==============================] - 0s 22ms/step\n",
      "24 day output [[0.05022731]]\n",
      "25 day input [0.16518472 0.16458359 0.15539136 0.15143394 0.14396994 0.13332498\n",
      " 0.14001252 0.14529743 0.1459737  0.14116468 0.14958046 0.14875391\n",
      " 0.14108954 0.13139637 0.12673763 0.14053851 0.12944271 0.11994991\n",
      " 0.1096556  0.1208516  0.13212273 0.13470257 0.14311835 0.14662492\n",
      " 0.15524108 0.1587226  0.16839073 0.17001879 0.17222292 0.1806387\n",
      " 0.17765811 0.16974327 0.16899186 0.17933626 0.17087038 0.16278021\n",
      " 0.16355667 0.15842204 0.14755166 0.15233563 0.1591985  0.1463995\n",
      " 0.14584847 0.15168441 0.15125861 0.14922981 0.13763306 0.14036318\n",
      " 0.12513463 0.12455855 0.14226675 0.12726362 0.12804008 0.13184721\n",
      " 0.14822793 0.12505949 0.12633688 0.11326237 0.11939887 0.09933626\n",
      " 0.08946775 0.10086412 0.09693175 0.10619912 0.08510958 0.07641828\n",
      " 0.07701941 0.09084534 0.08395742 0.08435817 0.09252348 0.107201\n",
      " 0.10519724 0.10487163 0.11113338 0.08369023 0.08635911 0.08774094\n",
      " 0.08793614 0.08723615 0.08594227 0.08429305 0.08245101 0.08051485\n",
      " 0.07853883 0.07655004 0.07456103 0.07257774 0.07060361 0.06864151\n",
      " 0.06669445 0.06476539 0.06285718 0.0609723  0.05911271 0.05727987\n",
      " 0.05547466 0.05369753 0.05194851 0.05022731]\n",
      "1/1 [==============================] - 0s 22ms/step\n",
      "25 day output [[0.04853343]]\n",
      "26 day input [0.16458359 0.15539136 0.15143394 0.14396994 0.13332498 0.14001252\n",
      " 0.14529743 0.1459737  0.14116468 0.14958046 0.14875391 0.14108954\n",
      " 0.13139637 0.12673763 0.14053851 0.12944271 0.11994991 0.1096556\n",
      " 0.1208516  0.13212273 0.13470257 0.14311835 0.14662492 0.15524108\n",
      " 0.1587226  0.16839073 0.17001879 0.17222292 0.1806387  0.17765811\n",
      " 0.16974327 0.16899186 0.17933626 0.17087038 0.16278021 0.16355667\n",
      " 0.15842204 0.14755166 0.15233563 0.1591985  0.1463995  0.14584847\n",
      " 0.15168441 0.15125861 0.14922981 0.13763306 0.14036318 0.12513463\n",
      " 0.12455855 0.14226675 0.12726362 0.12804008 0.13184721 0.14822793\n",
      " 0.12505949 0.12633688 0.11326237 0.11939887 0.09933626 0.08946775\n",
      " 0.10086412 0.09693175 0.10619912 0.08510958 0.07641828 0.07701941\n",
      " 0.09084534 0.08395742 0.08435817 0.09252348 0.107201   0.10519724\n",
      " 0.10487163 0.11113338 0.08369023 0.08635911 0.08774094 0.08793614\n",
      " 0.08723615 0.08594227 0.08429305 0.08245101 0.08051485 0.07853883\n",
      " 0.07655004 0.07456103 0.07257774 0.07060361 0.06864151 0.06669445\n",
      " 0.06476539 0.06285718 0.0609723  0.05911271 0.05727987 0.05547466\n",
      " 0.05369753 0.05194851 0.05022731 0.04853343]\n",
      "1/1 [==============================] - 0s 22ms/step\n",
      "26 day output [[0.04686614]]\n",
      "27 day input [0.15539136 0.15143394 0.14396994 0.13332498 0.14001252 0.14529743\n",
      " 0.1459737  0.14116468 0.14958046 0.14875391 0.14108954 0.13139637\n",
      " 0.12673763 0.14053851 0.12944271 0.11994991 0.1096556  0.1208516\n",
      " 0.13212273 0.13470257 0.14311835 0.14662492 0.15524108 0.1587226\n",
      " 0.16839073 0.17001879 0.17222292 0.1806387  0.17765811 0.16974327\n",
      " 0.16899186 0.17933626 0.17087038 0.16278021 0.16355667 0.15842204\n",
      " 0.14755166 0.15233563 0.1591985  0.1463995  0.14584847 0.15168441\n",
      " 0.15125861 0.14922981 0.13763306 0.14036318 0.12513463 0.12455855\n",
      " 0.14226675 0.12726362 0.12804008 0.13184721 0.14822793 0.12505949\n",
      " 0.12633688 0.11326237 0.11939887 0.09933626 0.08946775 0.10086412\n",
      " 0.09693175 0.10619912 0.08510958 0.07641828 0.07701941 0.09084534\n",
      " 0.08395742 0.08435817 0.09252348 0.107201   0.10519724 0.10487163\n",
      " 0.11113338 0.08369023 0.08635911 0.08774094 0.08793614 0.08723615\n",
      " 0.08594227 0.08429305 0.08245101 0.08051485 0.07853883 0.07655004\n",
      " 0.07456103 0.07257774 0.07060361 0.06864151 0.06669445 0.06476539\n",
      " 0.06285718 0.0609723  0.05911271 0.05727987 0.05547466 0.05369753\n",
      " 0.05194851 0.05022731 0.04853343 0.04686614]\n",
      "1/1 [==============================] - 0s 23ms/step\n",
      "27 day output [[0.04522462]]\n",
      "28 day input [0.15143394 0.14396994 0.13332498 0.14001252 0.14529743 0.1459737\n",
      " 0.14116468 0.14958046 0.14875391 0.14108954 0.13139637 0.12673763\n",
      " 0.14053851 0.12944271 0.11994991 0.1096556  0.1208516  0.13212273\n",
      " 0.13470257 0.14311835 0.14662492 0.15524108 0.1587226  0.16839073\n",
      " 0.17001879 0.17222292 0.1806387  0.17765811 0.16974327 0.16899186\n",
      " 0.17933626 0.17087038 0.16278021 0.16355667 0.15842204 0.14755166\n",
      " 0.15233563 0.1591985  0.1463995  0.14584847 0.15168441 0.15125861\n",
      " 0.14922981 0.13763306 0.14036318 0.12513463 0.12455855 0.14226675\n",
      " 0.12726362 0.12804008 0.13184721 0.14822793 0.12505949 0.12633688\n",
      " 0.11326237 0.11939887 0.09933626 0.08946775 0.10086412 0.09693175\n",
      " 0.10619912 0.08510958 0.07641828 0.07701941 0.09084534 0.08395742\n",
      " 0.08435817 0.09252348 0.107201   0.10519724 0.10487163 0.11113338\n",
      " 0.08369023 0.08635911 0.08774094 0.08793614 0.08723615 0.08594227\n",
      " 0.08429305 0.08245101 0.08051485 0.07853883 0.07655004 0.07456103\n",
      " 0.07257774 0.07060361 0.06864151 0.06669445 0.06476539 0.06285718\n",
      " 0.0609723  0.05911271 0.05727987 0.05547466 0.05369753 0.05194851\n",
      " 0.05022731 0.04853343 0.04686614 0.04522462]\n"
     ]
    },
    {
     "name": "stdout",
     "output_type": "stream",
     "text": [
      "1/1 [==============================] - 0s 24ms/step\n",
      "28 day output [[0.04360796]]\n",
      "29 day input [0.14396994 0.13332498 0.14001252 0.14529743 0.1459737  0.14116468\n",
      " 0.14958046 0.14875391 0.14108954 0.13139637 0.12673763 0.14053851\n",
      " 0.12944271 0.11994991 0.1096556  0.1208516  0.13212273 0.13470257\n",
      " 0.14311835 0.14662492 0.15524108 0.1587226  0.16839073 0.17001879\n",
      " 0.17222292 0.1806387  0.17765811 0.16974327 0.16899186 0.17933626\n",
      " 0.17087038 0.16278021 0.16355667 0.15842204 0.14755166 0.15233563\n",
      " 0.1591985  0.1463995  0.14584847 0.15168441 0.15125861 0.14922981\n",
      " 0.13763306 0.14036318 0.12513463 0.12455855 0.14226675 0.12726362\n",
      " 0.12804008 0.13184721 0.14822793 0.12505949 0.12633688 0.11326237\n",
      " 0.11939887 0.09933626 0.08946775 0.10086412 0.09693175 0.10619912\n",
      " 0.08510958 0.07641828 0.07701941 0.09084534 0.08395742 0.08435817\n",
      " 0.09252348 0.107201   0.10519724 0.10487163 0.11113338 0.08369023\n",
      " 0.08635911 0.08774094 0.08793614 0.08723615 0.08594227 0.08429305\n",
      " 0.08245101 0.08051485 0.07853883 0.07655004 0.07456103 0.07257774\n",
      " 0.07060361 0.06864151 0.06669445 0.06476539 0.06285718 0.0609723\n",
      " 0.05911271 0.05727987 0.05547466 0.05369753 0.05194851 0.05022731\n",
      " 0.04853343 0.04686614 0.04522462 0.04360796]\n",
      "1/1 [==============================] - 0s 25ms/step\n",
      "29 day output [[0.04201521]]\n",
      "[[0.08369023352861404], [0.08635910600423813], [0.0877409353852272], [0.08793614059686661], [0.08723615109920502], [0.08594226837158203], [0.08429305255413055], [0.08245100826025009], [0.08051484823226929], [0.07853882759809494], [0.07655003666877747], [0.07456102967262268], [0.07257774472236633], [0.07060360908508301], [0.06864151358604431], [0.06669444590806961], [0.06476539373397827], [0.06285718083381653], [0.06097230315208435], [0.05911271274089813], [0.05727986991405487], [0.0554746575653553], [0.05369752645492554], [0.05194850638508797], [0.05022731423377991], [0.04853342846035957], [0.04686614125967026], [0.0452246218919754], [0.043607957661151886], [0.042015209794044495]]\n"
     ]
    }
   ],
   "source": [
    "from numpy import array\n",
    "\n",
    "lst_output = []\n",
    "n_steps = 100\n",
    "i = 0\n",
    "while(i<30):\n",
    "    \n",
    "    if(len(temp_input)>100):\n",
    "        x_input = np.array(temp_input[1:])\n",
    "        print(f\"{i} day input {x_input}\" )\n",
    "        x_input = x_input.reshape(1,-1)\n",
    "        x_input = x_input.reshape((1,n_steps,1))\n",
    "        \n",
    "        y_hat = model.predict(x_input,verbose=1)\n",
    "        print( f\"{i} day output {y_hat}\" )\n",
    "        temp_input.extend(y_hat[0].tolist())\n",
    "        temp_input = temp_input[1:]\n",
    "        lst_output.extend(y_hat.tolist())\n",
    "        i+=1\n",
    "        \n",
    "    else:\n",
    "        x_input = x_input.reshape((1,n_steps,1))\n",
    "        y_hat = model.predict(x_input,verbose=1)\n",
    "        print(y_hat[0])\n",
    "        temp_input.extend(y_hat[0].tolist())\n",
    "        print(len(temp_input))\n",
    "        lst_output.extend(y_hat.tolist())\n",
    "        i += 1\n",
    "print(lst_output)"
   ]
  },
  {
   "cell_type": "code",
   "execution_count": 40,
   "id": "d69d9b95",
   "metadata": {},
   "outputs": [],
   "source": [
    "day_new = np.arange(1,101)\n",
    "day_pred = np.arange(101,131)\n"
   ]
  },
  {
   "cell_type": "code",
   "execution_count": 41,
   "id": "e04c135d",
   "metadata": {},
   "outputs": [],
   "source": [
    "import matplotlib.pyplot as plt"
   ]
  },
  {
   "cell_type": "code",
   "execution_count": 42,
   "id": "fa34064b",
   "metadata": {},
   "outputs": [
    {
     "data": {
      "text/plain": [
       "1259"
      ]
     },
     "execution_count": 42,
     "metadata": {},
     "output_type": "execute_result"
    }
   ],
   "source": [
    "len(df1)\n"
   ]
  },
  {
   "cell_type": "code",
   "execution_count": 46,
   "id": "1135e6fc",
   "metadata": {},
   "outputs": [
    {
     "data": {
      "text/plain": [
       "[<matplotlib.lines.Line2D at 0x173c077fc70>]"
      ]
     },
     "execution_count": 46,
     "metadata": {},
     "output_type": "execute_result"
    },
    {
     "data": {
      "image/png": "[encoded data removed]",
      "text/plain": [
       "<Figure size 432x288 with 1 Axes>"
      ]
     },
     "metadata": {
      "needs_background": "light"
     },
     "output_type": "display_data"
    }
   ],
   "source": [
    "plt.plot(day_new,scaler.inverse_transform(df1[1159:]))\n",
    "plt.plot(day_pred,scaler.inverse_transform(lst_output))"
   ]
  },
  {
   "cell_type": "code",
   "execution_count": 47,
   "id": "e047022f",
   "metadata": {},
   "outputs": [
    {
     "data": {
      "text/plain": [
       "[<matplotlib.lines.Line2D at 0x173c068d340>]"
      ]
     },
     "execution_count": 47,
     "metadata": {},
     "output_type": "execute_result"
    },
    {
     "data": {
      "image/png": "[encoded data removed]",
      "text/plain": [
       "<Figure size 432x288 with 1 Axes>"
      ]
     },
     "metadata": {
      "needs_background": "light"
     },
     "output_type": "display_data"
    }
   ],
   "source": [
    "df3 = df1.tolist()\n",
    "df3.extend(lst_output)\n",
    "plt.plot(df3[1200:])"
   ]
  },
  {
   "cell_type": "code",
   "execution_count": 48,
   "id": "5bd32c1c",
   "metadata": {},
   "outputs": [],
   "source": [
    "df3 = scaler.inverse_transform(df3).tolist()\n"
   ]
  },
  {
   "cell_type": "code",
   "execution_count": 49,
   "id": "c6913c2d",
   "metadata": {},
   "outputs": [
    {
     "data": {
      "text/plain": [
       "[<matplotlib.lines.Line2D at 0x173c2ff9220>]"
      ]
     },
     "execution_count": 49,
     "metadata": {},
     "output_type": "execute_result"
    },
    {
     "data": {
      "image/png": "[encoded data removed]",
      "text/plain": [
       "<Figure size 432x288 with 1 Axes>"
      ]
     },
     "metadata": {
      "needs_background": "light"
     },
     "output_type": "display_data"
    }
   ],
   "source": [
    "plt.plot(df3)"
   ]
  },
  {
   "cell_type": "code",
   "execution_count": null,
   "id": "dc5bd346",
   "metadata": {},
   "outputs": [],
   "source": []
  }
 ],
 "metadata": {
  "kernelspec": {
   "display_name": "Python 3 (ipykernel)",
   "language": "python",
   "name": "python3"
  },
  "language_info": {
   "codemirror_mode": {
    "name": "ipython",
    "version": 3
   },
   "file_extension": ".py",
   "mimetype": "text/x-python",
   "name": "python",
   "nbconvert_exporter": "python",
   "pygments_lexer": "ipython3",
   "version": "3.9.12"
  }
 },
 "nbformat": 4,
 "nbformat_minor": 5
}
